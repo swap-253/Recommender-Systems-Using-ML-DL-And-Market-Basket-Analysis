{
 "cells": [
  {
   "cell_type": "code",
   "execution_count": 2,
   "metadata": {
    "id": "jUTC6BJ3AEme"
   },
   "outputs": [],
   "source": [
    "# Ignore  the warnings\n",
    "import warnings\n",
    "warnings.filterwarnings('always')\n",
    "warnings.filterwarnings('ignore')\n",
    "import time\n",
    "# data visualisation and manipulation\n",
    "import numpy as np\n",
    "import pandas as pd\n",
    "import matplotlib.pyplot as plt\n",
    "from matplotlib import style\n",
    "import seaborn as sns\n",
    " \n",
    "#configure\n",
    "# sets matplotlib to inline and displays graphs below the corressponding cell.\n",
    "%matplotlib inline  \n",
    "style.use('fivethirtyeight')\n",
    "sns.set(style='whitegrid',color_codes=True)\n",
    "\n",
    "#model selection\n",
    "from sklearn.model_selection import train_test_split\n",
    "from sklearn.model_selection import KFold\n",
    "from sklearn.metrics import accuracy_score,precision_score,recall_score,confusion_matrix,roc_curve,roc_auc_score\n",
    "from sklearn.metrics import mean_absolute_error\n",
    "from sklearn.model_selection import GridSearchCV\n",
    "from sklearn.preprocessing import LabelEncoder"
   ]
  },
  {
   "cell_type": "code",
   "execution_count": 6,
   "metadata": {
    "colab": {
     "base_uri": "https://localhost:8080/"
    },
    "id": "7Uayu4WLZU8s",
    "outputId": "85b37db6-f43c-4817-9b5c-a60558bf8766"
   },
   "outputs": [
    {
     "name": "stdout",
     "output_type": "stream",
     "text": [
      "\n",
      "User Data :\n",
      "shape :  (943, 5)\n",
      "\n",
      "Ratings Data :\n",
      "shape :  (100000, 4)\n",
      "\n",
      "Item Data :\n",
      "shape :  (1682, 24)\n"
     ]
    }
   ],
   "source": [
    "\n",
    "\n",
    "# reading users file:\n",
    "u_cols = ['user_id', 'age', 'sex', 'occupation', 'zip_code']\n",
    "users = pd.read_csv('u.user', sep='|', names=u_cols,encoding='latin-1')\n",
    "\n",
    "# reading ratings file:\n",
    "r_cols = ['user_id', 'movie_id', 'rating', 'unix_timestamp']\n",
    "ratings = pd.read_csv('u.data', sep='\\t', names=r_cols,encoding='latin-1')\n",
    "\n",
    "# reading items file:\n",
    "i_cols = ['movie id', 'movie title' ,'release date','video release date', 'IMDb URL', 'unknown', 'Action', 'Adventure',\n",
    "'Animation', 'Children\\'s', 'Comedy', 'Crime', 'Documentary', 'Drama', 'Fantasy',\n",
    "'Film-Noir', 'Horror', 'Musical', 'Mystery', 'Romance', 'Sci-Fi', 'Thriller', 'War', 'Western']\n",
    "items = pd.read_csv('u.item', sep='|', names=i_cols,\n",
    "encoding='latin-1')\n",
    "\n",
    "# After loading the dataset, we should look at the content of each file (users, ratings, items).\n",
    "\n",
    "# Looking at the user file\n",
    "print(\"\\nUser Data :\")\n",
    "print(\"shape : \", users.shape)\n",
    "#print(users.head())\n",
    "\n",
    "# We have 943 users in the dataset and each user has 5 features, i.e. user_ID, age, sex, occupation and zip_code. Now let’s look at the ratings file.\n",
    "\n",
    "# Ratings Data\n",
    "print(\"\\nRatings Data :\")\n",
    "print(\"shape : \", ratings.shape)\n",
    "#print(ratings.head())\n",
    "\n",
    "# We have 100k ratings for different user and movie combinations. Now finally examine the items file.\n",
    "\n",
    "# Item Data\n",
    "print(\"\\nItem Data :\")\n",
    "print(\"shape : \", items.shape)\n",
    "#print(items.head())"
   ]
  },
  {
   "cell_type": "code",
   "execution_count": null,
   "metadata": {
    "colab": {
     "base_uri": "https://localhost:8080/",
     "height": 204
    },
    "id": "BfIj3JatZVAQ",
    "outputId": "c4586144-f1d2-4361-858c-a4ed0db81a05"
   },
   "outputs": [
    {
     "data": {
      "text/html": [
       "<div>\n",
       "<style scoped>\n",
       "    .dataframe tbody tr th:only-of-type {\n",
       "        vertical-align: middle;\n",
       "    }\n",
       "\n",
       "    .dataframe tbody tr th {\n",
       "        vertical-align: top;\n",
       "    }\n",
       "\n",
       "    .dataframe thead th {\n",
       "        text-align: right;\n",
       "    }\n",
       "</style>\n",
       "<table border=\"1\" class=\"dataframe\">\n",
       "  <thead>\n",
       "    <tr style=\"text-align: right;\">\n",
       "      <th></th>\n",
       "      <th>user_id</th>\n",
       "      <th>age</th>\n",
       "      <th>sex</th>\n",
       "      <th>occupation</th>\n",
       "      <th>zip_code</th>\n",
       "    </tr>\n",
       "  </thead>\n",
       "  <tbody>\n",
       "    <tr>\n",
       "      <th>0</th>\n",
       "      <td>1</td>\n",
       "      <td>24</td>\n",
       "      <td>M</td>\n",
       "      <td>technician</td>\n",
       "      <td>85711</td>\n",
       "    </tr>\n",
       "    <tr>\n",
       "      <th>1</th>\n",
       "      <td>2</td>\n",
       "      <td>53</td>\n",
       "      <td>F</td>\n",
       "      <td>other</td>\n",
       "      <td>94043</td>\n",
       "    </tr>\n",
       "    <tr>\n",
       "      <th>2</th>\n",
       "      <td>3</td>\n",
       "      <td>23</td>\n",
       "      <td>M</td>\n",
       "      <td>writer</td>\n",
       "      <td>32067</td>\n",
       "    </tr>\n",
       "    <tr>\n",
       "      <th>3</th>\n",
       "      <td>4</td>\n",
       "      <td>24</td>\n",
       "      <td>M</td>\n",
       "      <td>technician</td>\n",
       "      <td>43537</td>\n",
       "    </tr>\n",
       "    <tr>\n",
       "      <th>4</th>\n",
       "      <td>5</td>\n",
       "      <td>33</td>\n",
       "      <td>F</td>\n",
       "      <td>other</td>\n",
       "      <td>15213</td>\n",
       "    </tr>\n",
       "  </tbody>\n",
       "</table>\n",
       "</div>"
      ],
      "text/plain": [
       "   user_id  age sex  occupation zip_code\n",
       "0        1   24   M  technician    85711\n",
       "1        2   53   F       other    94043\n",
       "2        3   23   M      writer    32067\n",
       "3        4   24   M  technician    43537\n",
       "4        5   33   F       other    15213"
      ]
     },
     "execution_count": 5,
     "metadata": {
      "tags": []
     },
     "output_type": "execute_result"
    }
   ],
   "source": [
    "users.head()"
   ]
  },
  {
   "cell_type": "code",
   "execution_count": null,
   "metadata": {
    "colab": {
     "base_uri": "https://localhost:8080/",
     "height": 204
    },
    "id": "qNvHN71vXvph",
    "outputId": "a87bdaf7-e35b-4293-b778-02f7974a7620"
   },
   "outputs": [
    {
     "data": {
      "text/html": [
       "<div>\n",
       "<style scoped>\n",
       "    .dataframe tbody tr th:only-of-type {\n",
       "        vertical-align: middle;\n",
       "    }\n",
       "\n",
       "    .dataframe tbody tr th {\n",
       "        vertical-align: top;\n",
       "    }\n",
       "\n",
       "    .dataframe thead th {\n",
       "        text-align: right;\n",
       "    }\n",
       "</style>\n",
       "<table border=\"1\" class=\"dataframe\">\n",
       "  <thead>\n",
       "    <tr style=\"text-align: right;\">\n",
       "      <th></th>\n",
       "      <th>user_id</th>\n",
       "      <th>movie_id</th>\n",
       "      <th>rating</th>\n",
       "      <th>unix_timestamp</th>\n",
       "    </tr>\n",
       "  </thead>\n",
       "  <tbody>\n",
       "    <tr>\n",
       "      <th>0</th>\n",
       "      <td>196</td>\n",
       "      <td>242</td>\n",
       "      <td>3</td>\n",
       "      <td>881250949</td>\n",
       "    </tr>\n",
       "    <tr>\n",
       "      <th>1</th>\n",
       "      <td>186</td>\n",
       "      <td>302</td>\n",
       "      <td>3</td>\n",
       "      <td>891717742</td>\n",
       "    </tr>\n",
       "    <tr>\n",
       "      <th>2</th>\n",
       "      <td>22</td>\n",
       "      <td>377</td>\n",
       "      <td>1</td>\n",
       "      <td>878887116</td>\n",
       "    </tr>\n",
       "    <tr>\n",
       "      <th>3</th>\n",
       "      <td>244</td>\n",
       "      <td>51</td>\n",
       "      <td>2</td>\n",
       "      <td>880606923</td>\n",
       "    </tr>\n",
       "    <tr>\n",
       "      <th>4</th>\n",
       "      <td>166</td>\n",
       "      <td>346</td>\n",
       "      <td>1</td>\n",
       "      <td>886397596</td>\n",
       "    </tr>\n",
       "  </tbody>\n",
       "</table>\n",
       "</div>"
      ],
      "text/plain": [
       "   user_id  movie_id  rating  unix_timestamp\n",
       "0      196       242       3       881250949\n",
       "1      186       302       3       891717742\n",
       "2       22       377       1       878887116\n",
       "3      244        51       2       880606923\n",
       "4      166       346       1       886397596"
      ]
     },
     "execution_count": 8,
     "metadata": {
      "tags": []
     },
     "output_type": "execute_result"
    }
   ],
   "source": [
    "ratings.head()"
   ]
  },
  {
   "cell_type": "code",
   "execution_count": null,
   "metadata": {
    "colab": {
     "base_uri": "https://localhost:8080/",
     "height": 204
    },
    "id": "U9sWyhFGAUQt",
    "outputId": "69fbb2a6-5892-4f70-e0ce-12432a69c809"
   },
   "outputs": [],
   "source": [
    "#converting the unix timestamp of ratings to a  date\n",
    "from datetime import datetime\n",
    "def time_stamp(k):\n",
    "  return datetime.fromtimestamp(k).strftime('%d-%m-%Y')\n",
    "ratings['rating_date'] = ratings['unix_timestamp'].apply(time_stamp)\n",
    "ratings.head()"
   ]
  },
  {
   "cell_type": "code",
   "execution_count": 8,
   "metadata": {
    "colab": {
     "base_uri": "https://localhost:8080/"
    },
    "id": "6ZtwHCXpBD7P",
    "outputId": "8ad05117-4aef-4f01-a71d-64270c9d88ac"
   },
   "outputs": [
    {
     "name": "stdout",
     "output_type": "stream",
     "text": [
      "1997\n",
      "1998\n"
     ]
    }
   ],
   "source": [
    "print(pd.DatetimeIndex(ratings['rating_date']).year.min())\n",
    "print(pd.DatetimeIndex(ratings['rating_date']).year.max())"
   ]
  },
  {
   "cell_type": "code",
   "execution_count": null,
   "metadata": {
    "colab": {
     "base_uri": "https://localhost:8080/",
     "height": 204
    },
    "id": "gLTMfGYCAUUx",
    "outputId": "aea7a16e-c55a-4c1e-ddfc-23e6a55e7848"
   },
   "outputs": [],
   "source": [
    "#finding the no of days since the rating is given on movies from a specified date('01-11-1998')\n",
    "date_format = \"%d-%m-%Y\"\n",
    "def sub_dates(a):\n",
    "  return (datetime.strptime('01-11-1998', date_format)-a).days   \n",
    "def dat_strp(a):\n",
    "    return datetime.strptime(a, date_format)\n",
    "ratings['new_date']=ratings['rating_date'].apply(dat_strp)    \n",
    "ratings['days_diff']=ratings['new_date'].apply(sub_dates) \n",
    "#conversion of no of days to years\n",
    "ratings['years_diff']=round(ratings['days_diff']/365,2)\n",
    "ratings.head() "
   ]
  },
  {
   "cell_type": "code",
   "execution_count": 10,
   "metadata": {
    "colab": {
     "base_uri": "https://localhost:8080/",
     "height": 204
    },
    "id": "7vzT2TvZFG9y",
    "outputId": "0efecb60-d0eb-4e2f-dc77-2d510596353a"
   },
   "outputs": [
    {
     "data": {
      "text/html": [
       "<div>\n",
       "<style scoped>\n",
       "    .dataframe tbody tr th:only-of-type {\n",
       "        vertical-align: middle;\n",
       "    }\n",
       "\n",
       "    .dataframe tbody tr th {\n",
       "        vertical-align: top;\n",
       "    }\n",
       "\n",
       "    .dataframe thead th {\n",
       "        text-align: right;\n",
       "    }\n",
       "</style>\n",
       "<table border=\"1\" class=\"dataframe\">\n",
       "  <thead>\n",
       "    <tr style=\"text-align: right;\">\n",
       "      <th></th>\n",
       "      <th>user_id</th>\n",
       "      <th>movie_id</th>\n",
       "      <th>rating</th>\n",
       "      <th>rating_date</th>\n",
       "      <th>days_diff</th>\n",
       "      <th>years_diff</th>\n",
       "    </tr>\n",
       "  </thead>\n",
       "  <tbody>\n",
       "    <tr>\n",
       "      <th>0</th>\n",
       "      <td>196</td>\n",
       "      <td>242</td>\n",
       "      <td>3</td>\n",
       "      <td>04-12-1997</td>\n",
       "      <td>332</td>\n",
       "      <td>0.91</td>\n",
       "    </tr>\n",
       "    <tr>\n",
       "      <th>1</th>\n",
       "      <td>186</td>\n",
       "      <td>302</td>\n",
       "      <td>3</td>\n",
       "      <td>04-04-1998</td>\n",
       "      <td>211</td>\n",
       "      <td>0.58</td>\n",
       "    </tr>\n",
       "    <tr>\n",
       "      <th>2</th>\n",
       "      <td>22</td>\n",
       "      <td>377</td>\n",
       "      <td>1</td>\n",
       "      <td>07-11-1997</td>\n",
       "      <td>359</td>\n",
       "      <td>0.98</td>\n",
       "    </tr>\n",
       "    <tr>\n",
       "      <th>3</th>\n",
       "      <td>244</td>\n",
       "      <td>51</td>\n",
       "      <td>2</td>\n",
       "      <td>27-11-1997</td>\n",
       "      <td>339</td>\n",
       "      <td>0.93</td>\n",
       "    </tr>\n",
       "    <tr>\n",
       "      <th>4</th>\n",
       "      <td>166</td>\n",
       "      <td>346</td>\n",
       "      <td>1</td>\n",
       "      <td>02-02-1998</td>\n",
       "      <td>272</td>\n",
       "      <td>0.75</td>\n",
       "    </tr>\n",
       "  </tbody>\n",
       "</table>\n",
       "</div>"
      ],
      "text/plain": [
       "   user_id  movie_id  rating rating_date  days_diff  years_diff\n",
       "0      196       242       3  04-12-1997        332        0.91\n",
       "1      186       302       3  04-04-1998        211        0.58\n",
       "2       22       377       1  07-11-1997        359        0.98\n",
       "3      244        51       2  27-11-1997        339        0.93\n",
       "4      166       346       1  02-02-1998        272        0.75"
      ]
     },
     "execution_count": 10,
     "metadata": {
      "tags": []
     },
     "output_type": "execute_result"
    }
   ],
   "source": [
    "#dropping the below columns \n",
    "ratings.drop(['unix_timestamp','new_date'],axis=1,inplace=True)\n",
    "ratings.head()"
   ]
  },
  {
   "cell_type": "code",
   "execution_count": null,
   "metadata": {
    "colab": {
     "base_uri": "https://localhost:8080/"
    },
    "id": "a7fszSUFFHDe",
    "outputId": "bd54957c-e24a-4e07-a60a-a90d732fb555"
   },
   "outputs": [],
   "source": [
    "ratings['years_diff'].describe()"
   ]
  },
  {
   "cell_type": "code",
   "execution_count": null,
   "metadata": {
    "colab": {
     "base_uri": "https://localhost:8080/",
     "height": 204
    },
    "id": "rA5RTsvQFHFz",
    "outputId": "4676f65c-fa74-4c1d-88cc-1f7c6129bc72"
   },
   "outputs": [],
   "source": [
    "#for these values select m=0.425 and n=0.25, this idea is based on max and min values of years difference to get weighted difference\n",
    "m,n=0.425,0.25\n",
    "ratings['weighted_diff']=m*ratings['years_diff']+n\n",
    "ratings.head()"
   ]
  },
  {
   "cell_type": "code",
   "execution_count": 12,
   "metadata": {
    "colab": {
     "base_uri": "https://localhost:8080/",
     "height": 204
    },
    "id": "sBa1sxvkJ6SJ",
    "outputId": "e86050f3-8166-47e7-ad78-d5215dafad48"
   },
   "outputs": [
    {
     "data": {
      "text/html": [
       "<div>\n",
       "<style scoped>\n",
       "    .dataframe tbody tr th:only-of-type {\n",
       "        vertical-align: middle;\n",
       "    }\n",
       "\n",
       "    .dataframe tbody tr th {\n",
       "        vertical-align: top;\n",
       "    }\n",
       "\n",
       "    .dataframe thead th {\n",
       "        text-align: right;\n",
       "    }\n",
       "</style>\n",
       "<table border=\"1\" class=\"dataframe\">\n",
       "  <thead>\n",
       "    <tr style=\"text-align: right;\">\n",
       "      <th></th>\n",
       "      <th>user_id</th>\n",
       "      <th>movie_id</th>\n",
       "      <th>rating</th>\n",
       "      <th>rating_date</th>\n",
       "      <th>days_diff</th>\n",
       "      <th>years_diff</th>\n",
       "      <th>weighted_diff</th>\n",
       "      <th>final_ratings</th>\n",
       "    </tr>\n",
       "  </thead>\n",
       "  <tbody>\n",
       "    <tr>\n",
       "      <th>0</th>\n",
       "      <td>196</td>\n",
       "      <td>242</td>\n",
       "      <td>3</td>\n",
       "      <td>04-12-1997</td>\n",
       "      <td>332</td>\n",
       "      <td>0.91</td>\n",
       "      <td>0.63675</td>\n",
       "      <td>4.71</td>\n",
       "    </tr>\n",
       "    <tr>\n",
       "      <th>1</th>\n",
       "      <td>186</td>\n",
       "      <td>302</td>\n",
       "      <td>3</td>\n",
       "      <td>04-04-1998</td>\n",
       "      <td>211</td>\n",
       "      <td>0.58</td>\n",
       "      <td>0.49650</td>\n",
       "      <td>6.04</td>\n",
       "    </tr>\n",
       "    <tr>\n",
       "      <th>2</th>\n",
       "      <td>22</td>\n",
       "      <td>377</td>\n",
       "      <td>1</td>\n",
       "      <td>07-11-1997</td>\n",
       "      <td>359</td>\n",
       "      <td>0.98</td>\n",
       "      <td>0.66650</td>\n",
       "      <td>1.50</td>\n",
       "    </tr>\n",
       "    <tr>\n",
       "      <th>3</th>\n",
       "      <td>244</td>\n",
       "      <td>51</td>\n",
       "      <td>2</td>\n",
       "      <td>27-11-1997</td>\n",
       "      <td>339</td>\n",
       "      <td>0.93</td>\n",
       "      <td>0.64525</td>\n",
       "      <td>3.10</td>\n",
       "    </tr>\n",
       "    <tr>\n",
       "      <th>4</th>\n",
       "      <td>166</td>\n",
       "      <td>346</td>\n",
       "      <td>1</td>\n",
       "      <td>02-02-1998</td>\n",
       "      <td>272</td>\n",
       "      <td>0.75</td>\n",
       "      <td>0.56875</td>\n",
       "      <td>1.76</td>\n",
       "    </tr>\n",
       "  </tbody>\n",
       "</table>\n",
       "</div>"
      ],
      "text/plain": [
       "   user_id  movie_id  rating  ... years_diff  weighted_diff  final_ratings\n",
       "0      196       242       3  ...       0.91        0.63675           4.71\n",
       "1      186       302       3  ...       0.58        0.49650           6.04\n",
       "2       22       377       1  ...       0.98        0.66650           1.50\n",
       "3      244        51       2  ...       0.93        0.64525           3.10\n",
       "4      166       346       1  ...       0.75        0.56875           1.76\n",
       "\n",
       "[5 rows x 8 columns]"
      ]
     },
     "execution_count": 12,
     "metadata": {
      "tags": []
     },
     "output_type": "execute_result"
    }
   ],
   "source": [
    "#Now I am gonna create new ratings which are time based/temporal\n",
    "ratings['final_ratings']=round(ratings['rating']/ratings['weighted_diff'],2)\n",
    "ratings.head()"
   ]
  },
  {
   "cell_type": "code",
   "execution_count": null,
   "metadata": {
    "colab": {
     "base_uri": "https://localhost:8080/"
    },
    "id": "UIz-sSSBJ6XO",
    "outputId": "485da9a1-4be6-4030-ccc0-551c66882c79"
   },
   "outputs": [],
   "source": [
    "ratings['final_ratings'].describe()"
   ]
  },
  {
   "cell_type": "code",
   "execution_count": 15,
   "metadata": {
    "id": "5lfQ1dkFd9WY"
   },
   "outputs": [],
   "source": [
    "n_users = ratings.user_id.unique().shape[0]\n",
    "n_items = ratings.movie_id.unique().shape[0]\n",
    "data_matrix = np.zeros((n_users, n_items))"
   ]
  },
  {
   "cell_type": "code",
   "execution_count": 16,
   "metadata": {
    "colab": {
     "base_uri": "https://localhost:8080/"
    },
    "id": "Ijit9kaMfM_D",
    "outputId": "656e794c-4b89-4020-c904-5686ce42a123"
   },
   "outputs": [
    {
     "data": {
      "text/plain": [
       "array([[6.93, 4.31, 5.96, ..., 0.  , 0.  , 0.  ],\n",
       "       [7.42, 0.  , 0.  , ..., 0.  , 0.  , 0.  ],\n",
       "       [0.  , 0.  , 0.  , ..., 0.  , 0.  , 0.  ],\n",
       "       ...,\n",
       "       [6.93, 0.  , 0.  , ..., 0.  , 0.  , 0.  ],\n",
       "       [0.  , 0.  , 0.  , ..., 0.  , 0.  , 0.  ],\n",
       "       [0.  , 9.35, 0.  , ..., 0.  , 0.  , 0.  ]])"
      ]
     },
     "execution_count": 16,
     "metadata": {
      "tags": []
     },
     "output_type": "execute_result"
    }
   ],
   "source": [
    "#basically here I am filling the respective user ids(line[1]) and movies(line[2]) with the value final ratings(line[8])\n",
    "for line in ratings.itertuples():\n",
    "    data_matrix[line[1]-1,line[2]-1] = line[8]\n",
    "data_matrix    "
   ]
  },
  {
   "cell_type": "markdown",
   "metadata": {
    "id": "Y5csRc1_nW4-"
   },
   "source": [
    "## Building a simple popularity,collaborative filtering and matrix factorization model using Turicreate"
   ]
  },
  {
   "cell_type": "markdown",
   "metadata": {
    "id": "qnPpRDP9kY3S"
   },
   "source": [
    "**Turi Create simplifies the development of custom machine learning models. You don’t have to be a machine learning expert to add recommendations, object detection, image classification, image similarity or activity classification to your app**"
   ]
  },
  {
   "cell_type": "code",
   "execution_count": 18,
   "metadata": {
    "colab": {
     "base_uri": "https://localhost:8080/",
     "height": 279
    },
    "id": "kHQfrelJnQPW",
    "outputId": "cd0eeb64-6824-4294-a201-44af424f189e"
   },
   "outputs": [
    {
     "data": {
      "text/html": [
       "<div style=\"max-height:1000px;max-width:1500px;overflow:auto;\"><table frame=\"box\" rules=\"cols\">\n",
       "    <tr>\n",
       "        <th style=\"padding-left: 1em; padding-right: 1em; text-align: center\">user_id</th>\n",
       "        <th style=\"padding-left: 1em; padding-right: 1em; text-align: center\">movie_id</th>\n",
       "        <th style=\"padding-left: 1em; padding-right: 1em; text-align: center\">rating</th>\n",
       "        <th style=\"padding-left: 1em; padding-right: 1em; text-align: center\">rating_date</th>\n",
       "        <th style=\"padding-left: 1em; padding-right: 1em; text-align: center\">days_diff</th>\n",
       "        <th style=\"padding-left: 1em; padding-right: 1em; text-align: center\">years_diff</th>\n",
       "        <th style=\"padding-left: 1em; padding-right: 1em; text-align: center\">weighted_diff</th>\n",
       "        <th style=\"padding-left: 1em; padding-right: 1em; text-align: center\">final_ratings</th>\n",
       "    </tr>\n",
       "    <tr>\n",
       "        <td style=\"padding-left: 1em; padding-right: 1em; text-align: center; vertical-align: top\">196</td>\n",
       "        <td style=\"padding-left: 1em; padding-right: 1em; text-align: center; vertical-align: top\">242</td>\n",
       "        <td style=\"padding-left: 1em; padding-right: 1em; text-align: center; vertical-align: top\">3</td>\n",
       "        <td style=\"padding-left: 1em; padding-right: 1em; text-align: center; vertical-align: top\">04-12-1997</td>\n",
       "        <td style=\"padding-left: 1em; padding-right: 1em; text-align: center; vertical-align: top\">332</td>\n",
       "        <td style=\"padding-left: 1em; padding-right: 1em; text-align: center; vertical-align: top\">0.91</td>\n",
       "        <td style=\"padding-left: 1em; padding-right: 1em; text-align: center; vertical-align: top\">0.6367499999999999</td>\n",
       "        <td style=\"padding-left: 1em; padding-right: 1em; text-align: center; vertical-align: top\">4.71</td>\n",
       "    </tr>\n",
       "    <tr>\n",
       "        <td style=\"padding-left: 1em; padding-right: 1em; text-align: center; vertical-align: top\">186</td>\n",
       "        <td style=\"padding-left: 1em; padding-right: 1em; text-align: center; vertical-align: top\">302</td>\n",
       "        <td style=\"padding-left: 1em; padding-right: 1em; text-align: center; vertical-align: top\">3</td>\n",
       "        <td style=\"padding-left: 1em; padding-right: 1em; text-align: center; vertical-align: top\">04-04-1998</td>\n",
       "        <td style=\"padding-left: 1em; padding-right: 1em; text-align: center; vertical-align: top\">211</td>\n",
       "        <td style=\"padding-left: 1em; padding-right: 1em; text-align: center; vertical-align: top\">0.58</td>\n",
       "        <td style=\"padding-left: 1em; padding-right: 1em; text-align: center; vertical-align: top\">0.49649999999999994</td>\n",
       "        <td style=\"padding-left: 1em; padding-right: 1em; text-align: center; vertical-align: top\">6.04</td>\n",
       "    </tr>\n",
       "    <tr>\n",
       "        <td style=\"padding-left: 1em; padding-right: 1em; text-align: center; vertical-align: top\">22</td>\n",
       "        <td style=\"padding-left: 1em; padding-right: 1em; text-align: center; vertical-align: top\">377</td>\n",
       "        <td style=\"padding-left: 1em; padding-right: 1em; text-align: center; vertical-align: top\">1</td>\n",
       "        <td style=\"padding-left: 1em; padding-right: 1em; text-align: center; vertical-align: top\">07-11-1997</td>\n",
       "        <td style=\"padding-left: 1em; padding-right: 1em; text-align: center; vertical-align: top\">359</td>\n",
       "        <td style=\"padding-left: 1em; padding-right: 1em; text-align: center; vertical-align: top\">0.98</td>\n",
       "        <td style=\"padding-left: 1em; padding-right: 1em; text-align: center; vertical-align: top\">0.6665</td>\n",
       "        <td style=\"padding-left: 1em; padding-right: 1em; text-align: center; vertical-align: top\">1.5</td>\n",
       "    </tr>\n",
       "    <tr>\n",
       "        <td style=\"padding-left: 1em; padding-right: 1em; text-align: center; vertical-align: top\">244</td>\n",
       "        <td style=\"padding-left: 1em; padding-right: 1em; text-align: center; vertical-align: top\">51</td>\n",
       "        <td style=\"padding-left: 1em; padding-right: 1em; text-align: center; vertical-align: top\">2</td>\n",
       "        <td style=\"padding-left: 1em; padding-right: 1em; text-align: center; vertical-align: top\">27-11-1997</td>\n",
       "        <td style=\"padding-left: 1em; padding-right: 1em; text-align: center; vertical-align: top\">339</td>\n",
       "        <td style=\"padding-left: 1em; padding-right: 1em; text-align: center; vertical-align: top\">0.93</td>\n",
       "        <td style=\"padding-left: 1em; padding-right: 1em; text-align: center; vertical-align: top\">0.64525</td>\n",
       "        <td style=\"padding-left: 1em; padding-right: 1em; text-align: center; vertical-align: top\">3.1</td>\n",
       "    </tr>\n",
       "    <tr>\n",
       "        <td style=\"padding-left: 1em; padding-right: 1em; text-align: center; vertical-align: top\">166</td>\n",
       "        <td style=\"padding-left: 1em; padding-right: 1em; text-align: center; vertical-align: top\">346</td>\n",
       "        <td style=\"padding-left: 1em; padding-right: 1em; text-align: center; vertical-align: top\">1</td>\n",
       "        <td style=\"padding-left: 1em; padding-right: 1em; text-align: center; vertical-align: top\">02-02-1998</td>\n",
       "        <td style=\"padding-left: 1em; padding-right: 1em; text-align: center; vertical-align: top\">272</td>\n",
       "        <td style=\"padding-left: 1em; padding-right: 1em; text-align: center; vertical-align: top\">0.75</td>\n",
       "        <td style=\"padding-left: 1em; padding-right: 1em; text-align: center; vertical-align: top\">0.56875</td>\n",
       "        <td style=\"padding-left: 1em; padding-right: 1em; text-align: center; vertical-align: top\">1.76</td>\n",
       "    </tr>\n",
       "    <tr>\n",
       "        <td style=\"padding-left: 1em; padding-right: 1em; text-align: center; vertical-align: top\">298</td>\n",
       "        <td style=\"padding-left: 1em; padding-right: 1em; text-align: center; vertical-align: top\">474</td>\n",
       "        <td style=\"padding-left: 1em; padding-right: 1em; text-align: center; vertical-align: top\">4</td>\n",
       "        <td style=\"padding-left: 1em; padding-right: 1em; text-align: center; vertical-align: top\">07-01-1998</td>\n",
       "        <td style=\"padding-left: 1em; padding-right: 1em; text-align: center; vertical-align: top\">298</td>\n",
       "        <td style=\"padding-left: 1em; padding-right: 1em; text-align: center; vertical-align: top\">0.82</td>\n",
       "        <td style=\"padding-left: 1em; padding-right: 1em; text-align: center; vertical-align: top\">0.5985</td>\n",
       "        <td style=\"padding-left: 1em; padding-right: 1em; text-align: center; vertical-align: top\">6.68</td>\n",
       "    </tr>\n",
       "    <tr>\n",
       "        <td style=\"padding-left: 1em; padding-right: 1em; text-align: center; vertical-align: top\">115</td>\n",
       "        <td style=\"padding-left: 1em; padding-right: 1em; text-align: center; vertical-align: top\">265</td>\n",
       "        <td style=\"padding-left: 1em; padding-right: 1em; text-align: center; vertical-align: top\">2</td>\n",
       "        <td style=\"padding-left: 1em; padding-right: 1em; text-align: center; vertical-align: top\">03-12-1997</td>\n",
       "        <td style=\"padding-left: 1em; padding-right: 1em; text-align: center; vertical-align: top\">333</td>\n",
       "        <td style=\"padding-left: 1em; padding-right: 1em; text-align: center; vertical-align: top\">0.91</td>\n",
       "        <td style=\"padding-left: 1em; padding-right: 1em; text-align: center; vertical-align: top\">0.6367499999999999</td>\n",
       "        <td style=\"padding-left: 1em; padding-right: 1em; text-align: center; vertical-align: top\">3.14</td>\n",
       "    </tr>\n",
       "    <tr>\n",
       "        <td style=\"padding-left: 1em; padding-right: 1em; text-align: center; vertical-align: top\">253</td>\n",
       "        <td style=\"padding-left: 1em; padding-right: 1em; text-align: center; vertical-align: top\">465</td>\n",
       "        <td style=\"padding-left: 1em; padding-right: 1em; text-align: center; vertical-align: top\">5</td>\n",
       "        <td style=\"padding-left: 1em; padding-right: 1em; text-align: center; vertical-align: top\">03-04-1998</td>\n",
       "        <td style=\"padding-left: 1em; padding-right: 1em; text-align: center; vertical-align: top\">212</td>\n",
       "        <td style=\"padding-left: 1em; padding-right: 1em; text-align: center; vertical-align: top\">0.58</td>\n",
       "        <td style=\"padding-left: 1em; padding-right: 1em; text-align: center; vertical-align: top\">0.49649999999999994</td>\n",
       "        <td style=\"padding-left: 1em; padding-right: 1em; text-align: center; vertical-align: top\">10.07</td>\n",
       "    </tr>\n",
       "    <tr>\n",
       "        <td style=\"padding-left: 1em; padding-right: 1em; text-align: center; vertical-align: top\">305</td>\n",
       "        <td style=\"padding-left: 1em; padding-right: 1em; text-align: center; vertical-align: top\">451</td>\n",
       "        <td style=\"padding-left: 1em; padding-right: 1em; text-align: center; vertical-align: top\">3</td>\n",
       "        <td style=\"padding-left: 1em; padding-right: 1em; text-align: center; vertical-align: top\">01-02-1998</td>\n",
       "        <td style=\"padding-left: 1em; padding-right: 1em; text-align: center; vertical-align: top\">273</td>\n",
       "        <td style=\"padding-left: 1em; padding-right: 1em; text-align: center; vertical-align: top\">0.75</td>\n",
       "        <td style=\"padding-left: 1em; padding-right: 1em; text-align: center; vertical-align: top\">0.56875</td>\n",
       "        <td style=\"padding-left: 1em; padding-right: 1em; text-align: center; vertical-align: top\">5.27</td>\n",
       "    </tr>\n",
       "    <tr>\n",
       "        <td style=\"padding-left: 1em; padding-right: 1em; text-align: center; vertical-align: top\">6</td>\n",
       "        <td style=\"padding-left: 1em; padding-right: 1em; text-align: center; vertical-align: top\">86</td>\n",
       "        <td style=\"padding-left: 1em; padding-right: 1em; text-align: center; vertical-align: top\">3</td>\n",
       "        <td style=\"padding-left: 1em; padding-right: 1em; text-align: center; vertical-align: top\">31-12-1997</td>\n",
       "        <td style=\"padding-left: 1em; padding-right: 1em; text-align: center; vertical-align: top\">305</td>\n",
       "        <td style=\"padding-left: 1em; padding-right: 1em; text-align: center; vertical-align: top\">0.84</td>\n",
       "        <td style=\"padding-left: 1em; padding-right: 1em; text-align: center; vertical-align: top\">0.607</td>\n",
       "        <td style=\"padding-left: 1em; padding-right: 1em; text-align: center; vertical-align: top\">4.94</td>\n",
       "    </tr>\n",
       "</table>\n",
       "[100000 rows x 8 columns]<br/>Note: Only the head of the SFrame is printed.<br/>You can use print_rows(num_rows=m, num_columns=n) to print more rows and columns.\n",
       "</div>"
      ],
      "text/plain": [
       "Columns:\n",
       "\tuser_id\tint\n",
       "\tmovie_id\tint\n",
       "\trating\tint\n",
       "\trating_date\tstr\n",
       "\tdays_diff\tint\n",
       "\tyears_diff\tfloat\n",
       "\tweighted_diff\tfloat\n",
       "\tfinal_ratings\tfloat\n",
       "\n",
       "Rows: 100000\n",
       "\n",
       "Data:\n",
       "+---------+----------+--------+-------------+-----------+------------+\n",
       "| user_id | movie_id | rating | rating_date | days_diff | years_diff |\n",
       "+---------+----------+--------+-------------+-----------+------------+\n",
       "|   196   |   242    |   3    |  04-12-1997 |    332    |    0.91    |\n",
       "|   186   |   302    |   3    |  04-04-1998 |    211    |    0.58    |\n",
       "|    22   |   377    |   1    |  07-11-1997 |    359    |    0.98    |\n",
       "|   244   |    51    |   2    |  27-11-1997 |    339    |    0.93    |\n",
       "|   166   |   346    |   1    |  02-02-1998 |    272    |    0.75    |\n",
       "|   298   |   474    |   4    |  07-01-1998 |    298    |    0.82    |\n",
       "|   115   |   265    |   2    |  03-12-1997 |    333    |    0.91    |\n",
       "|   253   |   465    |   5    |  03-04-1998 |    212    |    0.58    |\n",
       "|   305   |   451    |   3    |  01-02-1998 |    273    |    0.75    |\n",
       "|    6    |    86    |   3    |  31-12-1997 |    305    |    0.84    |\n",
       "+---------+----------+--------+-------------+-----------+------------+\n",
       "+---------------------+---------------+\n",
       "|    weighted_diff    | final_ratings |\n",
       "+---------------------+---------------+\n",
       "|  0.6367499999999999 |      4.71     |\n",
       "| 0.49649999999999994 |      6.04     |\n",
       "|        0.6665       |      1.5      |\n",
       "|       0.64525       |      3.1      |\n",
       "|       0.56875       |      1.76     |\n",
       "|        0.5985       |      6.68     |\n",
       "|  0.6367499999999999 |      3.14     |\n",
       "| 0.49649999999999994 |     10.07     |\n",
       "|       0.56875       |      5.27     |\n",
       "|        0.607        |      4.94     |\n",
       "+---------------------+---------------+\n",
       "[100000 rows x 8 columns]\n",
       "Note: Only the head of the SFrame is printed.\n",
       "You can use print_rows(num_rows=m, num_columns=n) to print more rows and columns."
      ]
     },
     "execution_count": 18,
     "metadata": {
      "tags": []
     },
     "output_type": "execute_result"
    }
   ],
   "source": [
    "import turicreate\n",
    "#Turi Create use its own data type, called SFrame, similar to Pandas Dataframe, giving some verbose output too.\n",
    "train_data = turicreate.SFrame(ratings)\n",
    "train_data"
   ]
  },
  {
   "cell_type": "code",
   "execution_count": null,
   "metadata": {
    "colab": {
     "base_uri": "https://localhost:8080/",
     "height": 808
    },
    "id": "UHAm4_T4gIve",
    "outputId": "0559b7c9-8d88-4c16-b187-eccfa1b80093"
   },
   "outputs": [],
   "source": [
    "#visualisations of train data final ratings\n",
    "train_data['final_ratings'].show()"
   ]
  },
  {
   "cell_type": "code",
   "execution_count": 20,
   "metadata": {
    "id": "zpSeFSzzgwsp"
   },
   "outputs": [],
   "source": [
    "#split into train data and validation data\n",
    "training_data,validation_data = turicreate.recommender.util.random_split_by_user(train_data, 'user_id', 'movie_id',item_test_proportion=0.2)"
   ]
  },
  {
   "cell_type": "code",
   "execution_count": null,
   "metadata": {
    "colab": {
     "base_uri": "https://localhost:8080/",
     "height": 119
    },
    "id": "JowzwMyWnQXW",
    "outputId": "60ecbee1-f6fb-421c-dd8c-2535857c8b1e"
   },
   "outputs": [],
   "source": [
    "#A simple recommender model which will recommend movies based on the most popular choices, i.e., a model where all the users receive the same recommendation(s).\n",
    "popularity_model = turicreate.popularity_recommender.create(train_data, user_id='user_id', item_id='movie_id', target='final_ratings')"
   ]
  },
  {
   "cell_type": "code",
   "execution_count": 23,
   "metadata": {
    "colab": {
     "base_uri": "https://localhost:8080/"
    },
    "id": "lzf9merenQa4",
    "outputId": "c48a1157-94d1-4089-91fe-baf6768681cc"
   },
   "outputs": [
    {
     "name": "stdout",
     "output_type": "stream",
     "text": [
      "+---------+----------+-------------------+------+\n",
      "| user_id | movie_id |       score       | rank |\n",
      "+---------+----------+-------------------+------+\n",
      "|    1    |   1201   |        9.99       |  1   |\n",
      "|    1    |   1189   | 9.503333333333334 |  2   |\n",
      "|    1    |   1653   |        9.5        |  3   |\n",
      "|    1    |   1594   | 9.469999999999999 |  4   |\n",
      "|    1    |   1293   | 9.386666666666667 |  5   |\n",
      "|    2    |   1201   |        9.99       |  1   |\n",
      "|    2    |   1189   | 9.503333333333334 |  2   |\n",
      "|    2    |   1653   |        9.5        |  3   |\n",
      "|    2    |   1594   | 9.469999999999999 |  4   |\n",
      "|    2    |   1293   | 9.386666666666667 |  5   |\n",
      "|    3    |   1201   |        9.99       |  1   |\n",
      "|    3    |   1189   | 9.503333333333334 |  2   |\n",
      "|    3    |   1653   |        9.5        |  3   |\n",
      "|    3    |   1594   | 9.469999999999999 |  4   |\n",
      "|    3    |   1293   | 9.386666666666667 |  5   |\n",
      "|    4    |   1201   |        9.99       |  1   |\n",
      "|    4    |   1189   | 9.503333333333334 |  2   |\n",
      "|    4    |   1653   |        9.5        |  3   |\n",
      "|    4    |   1594   | 9.469999999999999 |  4   |\n",
      "|    4    |   1293   | 9.386666666666667 |  5   |\n",
      "|    5    |   1201   |        9.99       |  1   |\n",
      "|    5    |   1189   | 9.503333333333334 |  2   |\n",
      "|    5    |   1653   |        9.5        |  3   |\n",
      "|    5    |   1594   | 9.469999999999999 |  4   |\n",
      "|    5    |   1293   | 9.386666666666667 |  5   |\n",
      "|    6    |   1201   |        9.99       |  1   |\n",
      "|    6    |   1189   | 9.503333333333334 |  2   |\n",
      "|    6    |   1653   |        9.5        |  3   |\n",
      "|    6    |   1594   | 9.469999999999999 |  4   |\n",
      "|    6    |   1293   | 9.386666666666667 |  5   |\n",
      "|    7    |   1201   |        9.99       |  1   |\n",
      "|    7    |   1189   | 9.503333333333334 |  2   |\n",
      "|    7    |   1653   |        9.5        |  3   |\n",
      "|    7    |   1594   | 9.469999999999999 |  4   |\n",
      "|    7    |   1293   | 9.386666666666667 |  5   |\n",
      "+---------+----------+-------------------+------+\n",
      "[35 rows x 4 columns]\n",
      "\n"
     ]
    }
   ],
   "source": [
    "popularity_recomm = popularity_model.recommend(users=[1,2,3,4,5,6,7],k=5)\n",
    "popularity_recomm.print_rows(num_rows=35)\n"
   ]
  },
  {
   "cell_type": "code",
   "execution_count": null,
   "metadata": {
    "colab": {
     "base_uri": "https://localhost:8080/"
    },
    "id": "X75vcOD_mRgu",
    "outputId": "84b586bc-cf0c-45a6-96e4-9c8ea4efbdaf"
   },
   "outputs": [],
   "source": [
    "#evaluating the popularity model ('Overall RMSE=1.83)\n",
    "popularity_model.evaluate(validation_data)"
   ]
  },
  {
   "cell_type": "markdown",
   "metadata": {
    "id": "QhgtfEERrrvW"
   },
   "source": [
    "The recommendations for all 7 users are the same . And they’re also in the same order. All the users who have watched these movies gave it a top rating and this was obviously what was expected from this ***Popularity Recommender***"
   ]
  },
  {
   "cell_type": "code",
   "execution_count": 24,
   "metadata": {
    "colab": {
     "base_uri": "https://localhost:8080/",
     "height": 1000
    },
    "id": "DWbHtaiQnQde",
    "outputId": "753c5806-a773-45c5-e2f4-53b55743486d"
   },
   "outputs": [
    {
     "data": {
      "text/html": [
       "<pre>Warning: Ignoring columns rating, rating_date, days_diff, years_diff, weighted_diff;</pre>"
      ],
      "text/plain": [
       "Warning: Ignoring columns rating, rating_date, days_diff, years_diff, weighted_diff;"
      ]
     },
     "metadata": {
      "tags": []
     },
     "output_type": "display_data"
    },
    {
     "data": {
      "text/html": [
       "<pre>    To use these columns in scoring predictions, use a model that allows the use of additional features.</pre>"
      ],
      "text/plain": [
       "    To use these columns in scoring predictions, use a model that allows the use of additional features."
      ]
     },
     "metadata": {
      "tags": []
     },
     "output_type": "display_data"
    },
    {
     "data": {
      "text/html": [
       "<pre>Preparing data set.</pre>"
      ],
      "text/plain": [
       "Preparing data set."
      ]
     },
     "metadata": {
      "tags": []
     },
     "output_type": "display_data"
    },
    {
     "data": {
      "text/html": [
       "<pre>    Data has 80009 observations with 943 users and 1647 items.</pre>"
      ],
      "text/plain": [
       "    Data has 80009 observations with 943 users and 1647 items."
      ]
     },
     "metadata": {
      "tags": []
     },
     "output_type": "display_data"
    },
    {
     "data": {
      "text/html": [
       "<pre>    Data prepared in: 0.103817s</pre>"
      ],
      "text/plain": [
       "    Data prepared in: 0.103817s"
      ]
     },
     "metadata": {
      "tags": []
     },
     "output_type": "display_data"
    },
    {
     "data": {
      "text/html": [
       "<pre>Training model from provided data.</pre>"
      ],
      "text/plain": [
       "Training model from provided data."
      ]
     },
     "metadata": {
      "tags": []
     },
     "output_type": "display_data"
    },
    {
     "data": {
      "text/html": [
       "<pre>Gathering per-item and per-user statistics.</pre>"
      ],
      "text/plain": [
       "Gathering per-item and per-user statistics."
      ]
     },
     "metadata": {
      "tags": []
     },
     "output_type": "display_data"
    },
    {
     "data": {
      "text/html": [
       "<pre>+--------------------------------+------------+</pre>"
      ],
      "text/plain": [
       "+--------------------------------+------------+"
      ]
     },
     "metadata": {
      "tags": []
     },
     "output_type": "display_data"
    },
    {
     "data": {
      "text/html": [
       "<pre>| Elapsed Time (Item Statistics) | % Complete |</pre>"
      ],
      "text/plain": [
       "| Elapsed Time (Item Statistics) | % Complete |"
      ]
     },
     "metadata": {
      "tags": []
     },
     "output_type": "display_data"
    },
    {
     "data": {
      "text/html": [
       "<pre>+--------------------------------+------------+</pre>"
      ],
      "text/plain": [
       "+--------------------------------+------------+"
      ]
     },
     "metadata": {
      "tags": []
     },
     "output_type": "display_data"
    },
    {
     "data": {
      "text/html": [
       "<pre>| 6.074ms                        | 100        |</pre>"
      ],
      "text/plain": [
       "| 6.074ms                        | 100        |"
      ]
     },
     "metadata": {
      "tags": []
     },
     "output_type": "display_data"
    },
    {
     "data": {
      "text/html": [
       "<pre>+--------------------------------+------------+</pre>"
      ],
      "text/plain": [
       "+--------------------------------+------------+"
      ]
     },
     "metadata": {
      "tags": []
     },
     "output_type": "display_data"
    },
    {
     "data": {
      "text/html": [
       "<pre>Setting up lookup tables.</pre>"
      ],
      "text/plain": [
       "Setting up lookup tables."
      ]
     },
     "metadata": {
      "tags": []
     },
     "output_type": "display_data"
    },
    {
     "data": {
      "text/html": [
       "<pre>Processing data in one pass using dense lookup tables.</pre>"
      ],
      "text/plain": [
       "Processing data in one pass using dense lookup tables."
      ]
     },
     "metadata": {
      "tags": []
     },
     "output_type": "display_data"
    },
    {
     "data": {
      "text/html": [
       "<pre>+-------------------------------------+------------------+-----------------+</pre>"
      ],
      "text/plain": [
       "+-------------------------------------+------------------+-----------------+"
      ]
     },
     "metadata": {
      "tags": []
     },
     "output_type": "display_data"
    },
    {
     "data": {
      "text/html": [
       "<pre>| Elapsed Time (Constructing Lookups) | Total % Complete | Items Processed |</pre>"
      ],
      "text/plain": [
       "| Elapsed Time (Constructing Lookups) | Total % Complete | Items Processed |"
      ]
     },
     "metadata": {
      "tags": []
     },
     "output_type": "display_data"
    },
    {
     "data": {
      "text/html": [
       "<pre>+-------------------------------------+------------------+-----------------+</pre>"
      ],
      "text/plain": [
       "+-------------------------------------+------------------+-----------------+"
      ]
     },
     "metadata": {
      "tags": []
     },
     "output_type": "display_data"
    },
    {
     "data": {
      "text/html": [
       "<pre>| 13.022ms                            | 0                | 0               |</pre>"
      ],
      "text/plain": [
       "| 13.022ms                            | 0                | 0               |"
      ]
     },
     "metadata": {
      "tags": []
     },
     "output_type": "display_data"
    },
    {
     "data": {
      "text/html": [
       "<pre>| 171.337ms                           | 100              | 1647            |</pre>"
      ],
      "text/plain": [
       "| 171.337ms                           | 100              | 1647            |"
      ]
     },
     "metadata": {
      "tags": []
     },
     "output_type": "display_data"
    },
    {
     "data": {
      "text/html": [
       "<pre>+-------------------------------------+------------------+-----------------+</pre>"
      ],
      "text/plain": [
       "+-------------------------------------+------------------+-----------------+"
      ]
     },
     "metadata": {
      "tags": []
     },
     "output_type": "display_data"
    },
    {
     "data": {
      "text/html": [
       "<pre>Finalizing lookup tables.</pre>"
      ],
      "text/plain": [
       "Finalizing lookup tables."
      ]
     },
     "metadata": {
      "tags": []
     },
     "output_type": "display_data"
    },
    {
     "data": {
      "text/html": [
       "<pre>Generating candidate set for working with new users.</pre>"
      ],
      "text/plain": [
       "Generating candidate set for working with new users."
      ]
     },
     "metadata": {
      "tags": []
     },
     "output_type": "display_data"
    },
    {
     "data": {
      "text/html": [
       "<pre>Finished training in 1.19527s</pre>"
      ],
      "text/plain": [
       "Finished training in 1.19527s"
      ]
     },
     "metadata": {
      "tags": []
     },
     "output_type": "display_data"
    },
    {
     "name": "stdout",
     "output_type": "stream",
     "text": [
      "+---------+----------+--------------------+------+\n",
      "| user_id | movie_id |       score        | rank |\n",
      "+---------+----------+--------------------+------+\n",
      "|    1    |   204    | 1.3385929975796629 |  1   |\n",
      "|    1    |   195    | 1.218967752048263  |  2   |\n",
      "|    1    |   423    | 1.1703393409649532 |  3   |\n",
      "|    1    |   210    | 1.078538604080677  |  4   |\n",
      "|    1    |    28    | 1.0219033178355958 |  5   |\n",
      "|    2    |   121    | 1.4054655748970655 |  1   |\n",
      "|    2    |   181    | 1.401206106555705  |  2   |\n",
      "|    2    |   286    | 1.3796823085570822 |  3   |\n",
      "|    2    |   117    | 1.3309194920014362 |  4   |\n",
      "|    2    |    7     | 1.2173429362627926 |  5   |\n",
      "|    3    |   313    | 1.1348579208901588 |  1   |\n",
      "|    3    |   300    | 1.0395310850853616 |  2   |\n",
      "|    3    |   315    | 0.8929527072196312 |  3   |\n",
      "|    3    |   895    | 0.8386510585216765 |  4   |\n",
      "|    3    |   286    | 0.789850893172812  |  5   |\n",
      "|    4    |   258    | 2.2700142396820917 |  1   |\n",
      "|    4    |   313    | 1.8933563066853418 |  2   |\n",
      "|    4    |   181    | 1.8796816733148363 |  3   |\n",
      "|    4    |   333    | 1.8398620784282684 |  4   |\n",
      "|    4    |    1     | 1.7396060559484694 |  5   |\n",
      "|    5    |    82    | 1.1853398290469492 |  1   |\n",
      "|    5    |   195    | 1.1008801601773543 |  2   |\n",
      "|    5    |   210    | 1.0058958333173245 |  3   |\n",
      "|    5    |    96    | 0.9096978006603049 |  4   |\n",
      "|    5    |    28    | 0.8683984614104676 |  5   |\n",
      "|    6    |   174    | 1.6588295135647058 |  1   |\n",
      "|    6    |   423    | 1.2786696393042802 |  2   |\n",
      "|    6    |   238    | 1.2546629760414363 |  3   |\n",
      "|    6    |   196    | 1.2349176824092865 |  4   |\n",
      "|    6    |   603    | 1.1719821348786355 |  5   |\n",
      "|    7    |   210    | 1.4088831558731032 |  1   |\n",
      "|    7    |   132    | 1.2844678907660965 |  2   |\n",
      "|    7    |   186    | 1.2259039851079077 |  3   |\n",
      "|    7    |    22    | 1.2116750288083686 |  4   |\n",
      "|    7    |   183    | 1.1903448128922385 |  5   |\n",
      "+---------+----------+--------------------+------+\n",
      "[35 rows x 4 columns]\n",
      "\n"
     ]
    }
   ],
   "source": [
    "#Now creating a collaborative filtering model using similarity recommender\n",
    "#Training the model\n",
    "item_sim_model = turicreate.item_similarity_recommender.create(training_data, user_id='user_id', item_id='movie_id', target='final_ratings', similarity_type='cosine')\n",
    "\n",
    "#Creating Recommendations\n",
    "item_sim_recomm = item_sim_model.recommend(users=[1,2,3,4,5,6,7],k=5)\n",
    "item_sim_recomm.print_rows(num_rows=35)"
   ]
  },
  {
   "cell_type": "markdown",
   "metadata": {
    "id": "UCmkPKddnSsx"
   },
   "source": [
    "***In this model, we do not have the ratings for each movie given by each user. ***"
   ]
  },
  {
   "cell_type": "code",
   "execution_count": null,
   "metadata": {
    "colab": {
     "base_uri": "https://localhost:8080/"
    },
    "id": "CSSRZvVch5rW",
    "outputId": "3ee7e2c8-1f27-48d4-af80-864ccf3225e2"
   },
   "outputs": [],
   "source": [
    "#evaluating the collaborative filtering model using similarity recommender('Overall RMSE=5.802)\n",
    "item_sim_model.evaluate(validation_data)"
   ]
  },
  {
   "cell_type": "code",
   "execution_count": 27,
   "metadata": {
    "colab": {
     "base_uri": "https://localhost:8080/",
     "height": 1000
    },
    "id": "NOEE2TxNld_k",
    "outputId": "ae6f13ee-ce8a-4093-fadd-4ecf3606b120"
   },
   "outputs": [
    {
     "data": {
      "text/html": [
       "<pre>Preparing data set.</pre>"
      ],
      "text/plain": [
       "Preparing data set."
      ]
     },
     "metadata": {
      "tags": []
     },
     "output_type": "display_data"
    },
    {
     "data": {
      "text/html": [
       "<pre>    Data has 80009 observations with 943 users and 1647 items.</pre>"
      ],
      "text/plain": [
       "    Data has 80009 observations with 943 users and 1647 items."
      ]
     },
     "metadata": {
      "tags": []
     },
     "output_type": "display_data"
    },
    {
     "data": {
      "text/html": [
       "<pre>    Data prepared in: 0.176719s</pre>"
      ],
      "text/plain": [
       "    Data prepared in: 0.176719s"
      ]
     },
     "metadata": {
      "tags": []
     },
     "output_type": "display_data"
    },
    {
     "data": {
      "text/html": [
       "<pre>Training ranking_factorization_recommender for recommendations.</pre>"
      ],
      "text/plain": [
       "Training ranking_factorization_recommender for recommendations."
      ]
     },
     "metadata": {
      "tags": []
     },
     "output_type": "display_data"
    },
    {
     "data": {
      "text/html": [
       "<pre>+--------------------------------+--------------------------------------------------+----------+</pre>"
      ],
      "text/plain": [
       "+--------------------------------+--------------------------------------------------+----------+"
      ]
     },
     "metadata": {
      "tags": []
     },
     "output_type": "display_data"
    },
    {
     "data": {
      "text/html": [
       "<pre>| Parameter                      | Description                                      | Value    |</pre>"
      ],
      "text/plain": [
       "| Parameter                      | Description                                      | Value    |"
      ]
     },
     "metadata": {
      "tags": []
     },
     "output_type": "display_data"
    },
    {
     "data": {
      "text/html": [
       "<pre>+--------------------------------+--------------------------------------------------+----------+</pre>"
      ],
      "text/plain": [
       "+--------------------------------+--------------------------------------------------+----------+"
      ]
     },
     "metadata": {
      "tags": []
     },
     "output_type": "display_data"
    },
    {
     "data": {
      "text/html": [
       "<pre>| num_factors                    | Factor Dimension                                 | 32       |</pre>"
      ],
      "text/plain": [
       "| num_factors                    | Factor Dimension                                 | 32       |"
      ]
     },
     "metadata": {
      "tags": []
     },
     "output_type": "display_data"
    },
    {
     "data": {
      "text/html": [
       "<pre>| regularization                 | L2 Regularization on Factors                     | 1e-09    |</pre>"
      ],
      "text/plain": [
       "| regularization                 | L2 Regularization on Factors                     | 1e-09    |"
      ]
     },
     "metadata": {
      "tags": []
     },
     "output_type": "display_data"
    },
    {
     "data": {
      "text/html": [
       "<pre>| solver                         | Solver used for training                         | adagrad  |</pre>"
      ],
      "text/plain": [
       "| solver                         | Solver used for training                         | adagrad  |"
      ]
     },
     "metadata": {
      "tags": []
     },
     "output_type": "display_data"
    },
    {
     "data": {
      "text/html": [
       "<pre>| linear_regularization          | L2 Regularization on Linear Coefficients         | 1e-09    |</pre>"
      ],
      "text/plain": [
       "| linear_regularization          | L2 Regularization on Linear Coefficients         | 1e-09    |"
      ]
     },
     "metadata": {
      "tags": []
     },
     "output_type": "display_data"
    },
    {
     "data": {
      "text/html": [
       "<pre>| ranking_regularization         | Rank-based Regularization Weight                 | 0.25     |</pre>"
      ],
      "text/plain": [
       "| ranking_regularization         | Rank-based Regularization Weight                 | 0.25     |"
      ]
     },
     "metadata": {
      "tags": []
     },
     "output_type": "display_data"
    },
    {
     "data": {
      "text/html": [
       "<pre>| max_iterations                 | Maximum Number of Iterations                     | 25       |</pre>"
      ],
      "text/plain": [
       "| max_iterations                 | Maximum Number of Iterations                     | 25       |"
      ]
     },
     "metadata": {
      "tags": []
     },
     "output_type": "display_data"
    },
    {
     "data": {
      "text/html": [
       "<pre>+--------------------------------+--------------------------------------------------+----------+</pre>"
      ],
      "text/plain": [
       "+--------------------------------+--------------------------------------------------+----------+"
      ]
     },
     "metadata": {
      "tags": []
     },
     "output_type": "display_data"
    },
    {
     "data": {
      "text/html": [
       "<pre>  Optimizing model using SGD; tuning step size.</pre>"
      ],
      "text/plain": [
       "  Optimizing model using SGD; tuning step size."
      ]
     },
     "metadata": {
      "tags": []
     },
     "output_type": "display_data"
    },
    {
     "data": {
      "text/html": [
       "<pre>  Using 10001 / 80009 points for tuning the step size.</pre>"
      ],
      "text/plain": [
       "  Using 10001 / 80009 points for tuning the step size."
      ]
     },
     "metadata": {
      "tags": []
     },
     "output_type": "display_data"
    },
    {
     "data": {
      "text/html": [
       "<pre>+---------+-------------------+------------------------------------------+</pre>"
      ],
      "text/plain": [
       "+---------+-------------------+------------------------------------------+"
      ]
     },
     "metadata": {
      "tags": []
     },
     "output_type": "display_data"
    },
    {
     "data": {
      "text/html": [
       "<pre>| Attempt | Initial Step Size | Estimated Objective Value                |</pre>"
      ],
      "text/plain": [
       "| Attempt | Initial Step Size | Estimated Objective Value                |"
      ]
     },
     "metadata": {
      "tags": []
     },
     "output_type": "display_data"
    },
    {
     "data": {
      "text/html": [
       "<pre>+---------+-------------------+------------------------------------------+</pre>"
      ],
      "text/plain": [
       "+---------+-------------------+------------------------------------------+"
      ]
     },
     "metadata": {
      "tags": []
     },
     "output_type": "display_data"
    },
    {
     "data": {
      "text/html": [
       "<pre>| 0       | 7.14286           | Not Viable                               |</pre>"
      ],
      "text/plain": [
       "| 0       | 7.14286           | Not Viable                               |"
      ]
     },
     "metadata": {
      "tags": []
     },
     "output_type": "display_data"
    },
    {
     "data": {
      "text/html": [
       "<pre>| 1       | 1.78571           | Not Viable                               |</pre>"
      ],
      "text/plain": [
       "| 1       | 1.78571           | Not Viable                               |"
      ]
     },
     "metadata": {
      "tags": []
     },
     "output_type": "display_data"
    },
    {
     "data": {
      "text/html": [
       "<pre>| 2       | 0.446429          | Not Viable                               |</pre>"
      ],
      "text/plain": [
       "| 2       | 0.446429          | Not Viable                               |"
      ]
     },
     "metadata": {
      "tags": []
     },
     "output_type": "display_data"
    },
    {
     "data": {
      "text/html": [
       "<pre>| 3       | 0.111607          | 4.6957                                   |</pre>"
      ],
      "text/plain": [
       "| 3       | 0.111607          | 4.6957                                   |"
      ]
     },
     "metadata": {
      "tags": []
     },
     "output_type": "display_data"
    },
    {
     "data": {
      "text/html": [
       "<pre>| 4       | 0.0558036         | 4.35547                                  |</pre>"
      ],
      "text/plain": [
       "| 4       | 0.0558036         | 4.35547                                  |"
      ]
     },
     "metadata": {
      "tags": []
     },
     "output_type": "display_data"
    },
    {
     "data": {
      "text/html": [
       "<pre>| 5       | 0.0279018         | 3.98677                                  |</pre>"
      ],
      "text/plain": [
       "| 5       | 0.0279018         | 3.98677                                  |"
      ]
     },
     "metadata": {
      "tags": []
     },
     "output_type": "display_data"
    },
    {
     "data": {
      "text/html": [
       "<pre>| 6       | 0.0139509         | 4.10187                                  |</pre>"
      ],
      "text/plain": [
       "| 6       | 0.0139509         | 4.10187                                  |"
      ]
     },
     "metadata": {
      "tags": []
     },
     "output_type": "display_data"
    },
    {
     "data": {
      "text/html": [
       "<pre>| 7       | 0.00697545        | 4.26066                                  |</pre>"
      ],
      "text/plain": [
       "| 7       | 0.00697545        | 4.26066                                  |"
      ]
     },
     "metadata": {
      "tags": []
     },
     "output_type": "display_data"
    },
    {
     "data": {
      "text/html": [
       "<pre>| 8       | 0.00348772        | 4.83994                                  |</pre>"
      ],
      "text/plain": [
       "| 8       | 0.00348772        | 4.83994                                  |"
      ]
     },
     "metadata": {
      "tags": []
     },
     "output_type": "display_data"
    },
    {
     "data": {
      "text/html": [
       "<pre>+---------+-------------------+------------------------------------------+</pre>"
      ],
      "text/plain": [
       "+---------+-------------------+------------------------------------------+"
      ]
     },
     "metadata": {
      "tags": []
     },
     "output_type": "display_data"
    },
    {
     "data": {
      "text/html": [
       "<pre>| Final   | 0.0279018         | 3.98677                                  |</pre>"
      ],
      "text/plain": [
       "| Final   | 0.0279018         | 3.98677                                  |"
      ]
     },
     "metadata": {
      "tags": []
     },
     "output_type": "display_data"
    },
    {
     "data": {
      "text/html": [
       "<pre>+---------+-------------------+------------------------------------------+</pre>"
      ],
      "text/plain": [
       "+---------+-------------------+------------------------------------------+"
      ]
     },
     "metadata": {
      "tags": []
     },
     "output_type": "display_data"
    },
    {
     "data": {
      "text/html": [
       "<pre>Starting Optimization.</pre>"
      ],
      "text/plain": [
       "Starting Optimization."
      ]
     },
     "metadata": {
      "tags": []
     },
     "output_type": "display_data"
    },
    {
     "data": {
      "text/html": [
       "<pre>+---------+--------------+-------------------+-----------------------+-------------+</pre>"
      ],
      "text/plain": [
       "+---------+--------------+-------------------+-----------------------+-------------+"
      ]
     },
     "metadata": {
      "tags": []
     },
     "output_type": "display_data"
    },
    {
     "data": {
      "text/html": [
       "<pre>| Iter.   | Elapsed Time | Approx. Objective | Approx. Training RMSE | Step Size   |</pre>"
      ],
      "text/plain": [
       "| Iter.   | Elapsed Time | Approx. Objective | Approx. Training RMSE | Step Size   |"
      ]
     },
     "metadata": {
      "tags": []
     },
     "output_type": "display_data"
    },
    {
     "data": {
      "text/html": [
       "<pre>+---------+--------------+-------------------+-----------------------+-------------+</pre>"
      ],
      "text/plain": [
       "+---------+--------------+-------------------+-----------------------+-------------+"
      ]
     },
     "metadata": {
      "tags": []
     },
     "output_type": "display_data"
    },
    {
     "data": {
      "text/html": [
       "<pre>| Initial | 130us        | 8.12727           | 2.03584               |             |</pre>"
      ],
      "text/plain": [
       "| Initial | 130us        | 8.12727           | 2.03584               |             |"
      ]
     },
     "metadata": {
      "tags": []
     },
     "output_type": "display_data"
    },
    {
     "data": {
      "text/html": [
       "<pre>+---------+--------------+-------------------+-----------------------+-------------+</pre>"
      ],
      "text/plain": [
       "+---------+--------------+-------------------+-----------------------+-------------+"
      ]
     },
     "metadata": {
      "tags": []
     },
     "output_type": "display_data"
    },
    {
     "data": {
      "text/html": [
       "<pre>| 1       | 378.304ms    | 3.98091           | 0.921399              | 0.0279018   |</pre>"
      ],
      "text/plain": [
       "| 1       | 378.304ms    | 3.98091           | 0.921399              | 0.0279018   |"
      ]
     },
     "metadata": {
      "tags": []
     },
     "output_type": "display_data"
    },
    {
     "data": {
      "text/html": [
       "<pre>| 2       | 738.756ms    | 6.15532           | 1.80056               | 0.0279018   |</pre>"
      ],
      "text/plain": [
       "| 2       | 738.756ms    | 6.15532           | 1.80056               | 0.0279018   |"
      ]
     },
     "metadata": {
      "tags": []
     },
     "output_type": "display_data"
    },
    {
     "data": {
      "text/html": [
       "<pre>| 3       | 1.18s        | DIVERGED          | DIVERGED              | 0.0279018   |</pre>"
      ],
      "text/plain": [
       "| 3       | 1.18s        | DIVERGED          | DIVERGED              | 0.0279018   |"
      ]
     },
     "metadata": {
      "tags": []
     },
     "output_type": "display_data"
    },
    {
     "data": {
      "text/html": [
       "<pre>| RESET   | 1.32s        | 8.12786           | 2.03598               |             |</pre>"
      ],
      "text/plain": [
       "| RESET   | 1.32s        | 8.12786           | 2.03598               |             |"
      ]
     },
     "metadata": {
      "tags": []
     },
     "output_type": "display_data"
    },
    {
     "data": {
      "text/html": [
       "<pre>| 1       | 1.70s        | 4.83289           | 1.22008               | 0.0139509   |</pre>"
      ],
      "text/plain": [
       "| 1       | 1.70s        | 4.83289           | 1.22008               | 0.0139509   |"
      ]
     },
     "metadata": {
      "tags": []
     },
     "output_type": "display_data"
    },
    {
     "data": {
      "text/html": [
       "<pre>| 2       | 2.07s        | 4.98086           | 1.37935               | 0.0139509   |</pre>"
      ],
      "text/plain": [
       "| 2       | 2.07s        | 4.98086           | 1.37935               | 0.0139509   |"
      ]
     },
     "metadata": {
      "tags": []
     },
     "output_type": "display_data"
    },
    {
     "data": {
      "text/html": [
       "<pre>| 3       | 2.44s        | 4.16861           | 1.07362               | 0.0139509   |</pre>"
      ],
      "text/plain": [
       "| 3       | 2.44s        | 4.16861           | 1.07362               | 0.0139509   |"
      ]
     },
     "metadata": {
      "tags": []
     },
     "output_type": "display_data"
    },
    {
     "data": {
      "text/html": [
       "<pre>| 7       | 3.95s        | 10.6132           | 2.79434               | 0.0139509   |</pre>"
      ],
      "text/plain": [
       "| 7       | 3.95s        | 10.6132           | 2.79434               | 0.0139509   |"
      ]
     },
     "metadata": {
      "tags": []
     },
     "output_type": "display_data"
    },
    {
     "data": {
      "text/html": [
       "<pre>| 17      | 7.68s        | 7.25099           | 2.03817               | 0.0139509   |</pre>"
      ],
      "text/plain": [
       "| 17      | 7.68s        | 7.25099           | 2.03817               | 0.0139509   |"
      ]
     },
     "metadata": {
      "tags": []
     },
     "output_type": "display_data"
    },
    {
     "data": {
      "text/html": [
       "<pre>| 25      | 10.62s       | 5.71209           | 1.62474               | 0.0139509   |</pre>"
      ],
      "text/plain": [
       "| 25      | 10.62s       | 5.71209           | 1.62474               | 0.0139509   |"
      ]
     },
     "metadata": {
      "tags": []
     },
     "output_type": "display_data"
    },
    {
     "data": {
      "text/html": [
       "<pre>+---------+--------------+-------------------+-----------------------+-------------+</pre>"
      ],
      "text/plain": [
       "+---------+--------------+-------------------+-----------------------+-------------+"
      ]
     },
     "metadata": {
      "tags": []
     },
     "output_type": "display_data"
    },
    {
     "data": {
      "text/html": [
       "<pre>Optimization Complete: Maximum number of passes through the data reached.</pre>"
      ],
      "text/plain": [
       "Optimization Complete: Maximum number of passes through the data reached."
      ]
     },
     "metadata": {
      "tags": []
     },
     "output_type": "display_data"
    },
    {
     "data": {
      "text/html": [
       "<pre>Computing final objective value and training RMSE.</pre>"
      ],
      "text/plain": [
       "Computing final objective value and training RMSE."
      ]
     },
     "metadata": {
      "tags": []
     },
     "output_type": "display_data"
    },
    {
     "data": {
      "text/html": [
       "<pre>       Final objective value: 5.69322</pre>"
      ],
      "text/plain": [
       "       Final objective value: 5.69322"
      ]
     },
     "metadata": {
      "tags": []
     },
     "output_type": "display_data"
    },
    {
     "data": {
      "text/html": [
       "<pre>       Final training RMSE: 1.58149</pre>"
      ],
      "text/plain": [
       "       Final training RMSE: 1.58149"
      ]
     },
     "metadata": {
      "tags": []
     },
     "output_type": "display_data"
    },
    {
     "name": "stdout",
     "output_type": "stream",
     "text": [
      "+---------+----------+--------------------+------+\n",
      "| user_id | movie_id |       score        | rank |\n",
      "+---------+----------+--------------------+------+\n",
      "|    1    |    7     | 7.105852937008046  |  1   |\n",
      "|    1    |   405    | 7.086041876728438  |  2   |\n",
      "|    1    |   546    | 7.042463713939093  |  3   |\n",
      "|    1    |   1047   |  7.0313975900959   |  4   |\n",
      "|    1    |    25    | 6.972714120204352  |  5   |\n",
      "|    2    |   181    | 7.070090228373908  |  1   |\n",
      "|    2    |   172    | 6.941142977828883  |  2   |\n",
      "|    2    |   286    | 6.937798717672728  |  3   |\n",
      "|    2    |   174    | 6.919526608343028  |  4   |\n",
      "|    2    |    98    | 6.9186161324929225 |  5   |\n",
      "|    3    |   313    | 7.272018154765271  |  1   |\n",
      "|    3    |    50    | 7.253635724688672  |  2   |\n",
      "|    3    |   172    | 7.045737033392094  |  3   |\n",
      "|    3    |    98    | 7.039024850035809  |  4   |\n",
      "|    3    |    22    | 7.035968130136632  |  5   |\n",
      "|    4    |   313    | 7.3870760590385425 |  1   |\n",
      "|    4    |   181    | 7.323020720536612  |  2   |\n",
      "|    4    |   258    | 7.320613274032973  |  3   |\n",
      "|    4    |   302    | 7.271321335489653  |  4   |\n",
      "|    4    |   272    | 7.265115955526732  |  5   |\n",
      "|    5    |    7     | 7.118153815771245  |  1   |\n",
      "|    5    |   1047   | 7.109432497675322  |  2   |\n",
      "|    5    |   546    | 7.1068927884649264 |  3   |\n",
      "|    5    |   118    | 7.020159670765303  |  4   |\n",
      "|    5    |   237    | 7.001009238566064  |  5   |\n",
      "+---------+----------+--------------------+------+\n",
      "[35 rows x 4 columns]\n",
      "\n"
     ]
    }
   ],
   "source": [
    "#Training the Matrix Factorization Model\n",
    "fact_model = turicreate.recommender.ranking_factorization_recommender.create(training_data, user_id='user_id', item_id='movie_id', target='final_ratings')\n",
    "\n",
    "#Making recommendations\n",
    "fact_recomm = fact_model.recommend(users=[1,2,3,4,5,6,7],k=5)\n",
    "fact_recomm.print_rows(num_rows=25)"
   ]
  },
  {
   "cell_type": "code",
   "execution_count": 28,
   "metadata": {
    "colab": {
     "base_uri": "https://localhost:8080/"
    },
    "id": "Z0IMhIcQlfN5",
    "outputId": "1c9b8a14-e43d-487e-a329-4c6a89cb46c8"
   },
   "outputs": [
    {
     "name": "stdout",
     "output_type": "stream",
     "text": [
      "\n",
      "Precision and recall summary statistics by cutoff\n",
      "+--------+---------------------+----------------------+\n",
      "| cutoff |    mean_precision   |     mean_recall      |\n",
      "+--------+---------------------+----------------------+\n",
      "|   1    | 0.24628450106157115 | 0.015828688514704203 |\n",
      "|   2    | 0.21178343949044587 | 0.02629948228805904  |\n",
      "|   3    | 0.20488322717622065 | 0.04071270138741779  |\n",
      "|   4    | 0.19851380042462846 | 0.05090579560961576  |\n",
      "|   5    |  0.1951167728237791 | 0.06379460824002249  |\n",
      "|   6    |  0.1873673036093418 | 0.07416042327539159  |\n",
      "|   7    | 0.18365180467091283 | 0.08352004015760031  |\n",
      "|   8    | 0.18006900212314225 | 0.09380484126340348  |\n",
      "|   9    | 0.17622080679405527 | 0.10140977115131883  |\n",
      "|   10   | 0.17144373673036087 | 0.10946886913945302  |\n",
      "+--------+---------------------+----------------------+\n",
      "[10 rows x 3 columns]\n",
      "\n",
      "\n",
      "Overall RMSE: 1.6431082547351172\n",
      "\n",
      "Per User RMSE (best)\n",
      "+---------+---------------------+-------+\n",
      "| user_id |         rmse        | count |\n",
      "+---------+---------------------+-------+\n",
      "|    17   | 0.08435154068602167 |   4   |\n",
      "+---------+---------------------+-------+\n",
      "[1 rows x 3 columns]\n",
      "\n",
      "\n",
      "Per User RMSE (worst)\n",
      "+---------+-------------------+-------+\n",
      "| user_id |        rmse       | count |\n",
      "+---------+-------------------+-------+\n",
      "|   729   | 8.307743580943974 |   4   |\n",
      "+---------+-------------------+-------+\n",
      "[1 rows x 3 columns]\n",
      "\n",
      "\n",
      "Per Item RMSE (best)\n",
      "+----------+----------------------+-------+\n",
      "| movie_id |         rmse         | count |\n",
      "+----------+----------------------+-------+\n",
      "|   1598   | 0.020612074488793878 |   2   |\n",
      "+----------+----------------------+-------+\n",
      "[1 rows x 3 columns]\n",
      "\n",
      "\n",
      "Per Item RMSE (worst)\n",
      "+----------+-------------------+-------+\n",
      "| movie_id |        rmse       | count |\n",
      "+----------+-------------------+-------+\n",
      "|   915    | 8.356840131750893 |   4   |\n",
      "+----------+-------------------+-------+\n",
      "[1 rows x 3 columns]\n",
      "\n"
     ]
    },
    {
     "data": {
      "text/plain": [
       "{'precision_recall_by_user': Columns:\n",
       " \tuser_id\tint\n",
       " \tcutoff\tint\n",
       " \tprecision\tfloat\n",
       " \trecall\tfloat\n",
       " \tcount\tint\n",
       " \n",
       " Rows: 16956\n",
       " \n",
       " Data:\n",
       " +---------+--------+-----------+--------+-------+\n",
       " | user_id | cutoff | precision | recall | count |\n",
       " +---------+--------+-----------+--------+-------+\n",
       " |   196   |   1    |    0.0    |  0.0   |   7   |\n",
       " |   196   |   2    |    0.0    |  0.0   |   7   |\n",
       " |   196   |   3    |    0.0    |  0.0   |   7   |\n",
       " |   196   |   4    |    0.0    |  0.0   |   7   |\n",
       " |   196   |   5    |    0.0    |  0.0   |   7   |\n",
       " |   196   |   6    |    0.0    |  0.0   |   7   |\n",
       " |   196   |   7    |    0.0    |  0.0   |   7   |\n",
       " |   196   |   8    |    0.0    |  0.0   |   7   |\n",
       " |   196   |   9    |    0.0    |  0.0   |   7   |\n",
       " |   196   |   10   |    0.0    |  0.0   |   7   |\n",
       " +---------+--------+-----------+--------+-------+\n",
       " [16956 rows x 5 columns]\n",
       " Note: Only the head of the SFrame is printed.\n",
       " You can use print_rows(num_rows=m, num_columns=n) to print more rows and columns.,\n",
       " 'precision_recall_overall': Columns:\n",
       " \tcutoff\tint\n",
       " \tprecision\tfloat\n",
       " \trecall\tfloat\n",
       " \n",
       " Rows: 18\n",
       " \n",
       " Data:\n",
       " +--------+---------------------+----------------------+\n",
       " | cutoff |      precision      |        recall        |\n",
       " +--------+---------------------+----------------------+\n",
       " |   1    | 0.24628450106157124 | 0.015828688514704193 |\n",
       " |   2    | 0.21178343949044587 | 0.026299482288059044 |\n",
       " |   3    |  0.2048832271762207 | 0.040712701387417775 |\n",
       " |   4    | 0.19851380042462852 | 0.05090579560961576  |\n",
       " |   5    | 0.19511677282377912 | 0.06379460824002245  |\n",
       " |   6    |  0.1873673036093418 | 0.07416042327539155  |\n",
       " |   7    | 0.18365180467091288 | 0.08352004015760035  |\n",
       " |   8    | 0.18006900212314225 | 0.09380484126340352  |\n",
       " |   9    |  0.1762208067940553 | 0.10140977115131881  |\n",
       " |   10   | 0.17144373673036095 | 0.10946886913945299  |\n",
       " +--------+---------------------+----------------------+\n",
       " [18 rows x 3 columns]\n",
       " Note: Only the head of the SFrame is printed.\n",
       " You can use print_rows(num_rows=m, num_columns=n) to print more rows and columns.,\n",
       " 'rmse_by_item': Columns:\n",
       " \tmovie_id\tint\n",
       " \trmse\tfloat\n",
       " \tcount\tint\n",
       " \n",
       " Rows: 1419\n",
       " \n",
       " Data:\n",
       " +----------+--------------------+-------+\n",
       " | movie_id |        rmse        | count |\n",
       " +----------+--------------------+-------+\n",
       " |   118    | 1.5409325285423912 |   71  |\n",
       " |   660    | 1.2333905933563425 |   31  |\n",
       " |   1379   | 1.5700588743883124 |   1   |\n",
       " |   839    | 1.3654724635967481 |   1   |\n",
       " |   699    | 0.9623595065296563 |   21  |\n",
       " |   567    | 1.7091271683354265 |   6   |\n",
       " |   773    |  1.39109965450135  |   5   |\n",
       " |   1029   | 0.1316984627942912 |   1   |\n",
       " |   435    | 1.0471740764497306 |   47  |\n",
       " |   1517   | 0.8996405070329236 |   2   |\n",
       " +----------+--------------------+-------+\n",
       " [1419 rows x 3 columns]\n",
       " Note: Only the head of the SFrame is printed.\n",
       " You can use print_rows(num_rows=m, num_columns=n) to print more rows and columns.,\n",
       " 'rmse_by_user': Columns:\n",
       " \tuser_id\tint\n",
       " \trmse\tfloat\n",
       " \tcount\tint\n",
       " \n",
       " Rows: 942\n",
       " \n",
       " Data:\n",
       " +---------+--------------------+-------+\n",
       " | user_id |        rmse        | count |\n",
       " +---------+--------------------+-------+\n",
       " |   118   | 1.5462973489987302 |   20  |\n",
       " |   660   | 0.704622608649682  |   45  |\n",
       " |   839   | 2.770804880211741  |   16  |\n",
       " |   699   | 1.8018783589751324 |   39  |\n",
       " |   567   | 0.911921006512642  |   35  |\n",
       " |   773   | 0.8650251747327171 |   33  |\n",
       " |   435   | 0.781988642816322  |   82  |\n",
       " |   554   | 1.0000297229331212 |   26  |\n",
       " |   898   | 2.4087324294907937 |   4   |\n",
       " |   840   | 1.3426912152114145 |   41  |\n",
       " +---------+--------------------+-------+\n",
       " [942 rows x 3 columns]\n",
       " Note: Only the head of the SFrame is printed.\n",
       " You can use print_rows(num_rows=m, num_columns=n) to print more rows and columns.,\n",
       " 'rmse_overall': 1.6431082547351172}"
      ]
     },
     "execution_count": 28,
     "metadata": {
      "tags": []
     },
     "output_type": "execute_result"
    }
   ],
   "source": [
    "#evaluating the matrix factorization model('Overall RMSE=1.64')\n",
    "fact_model.evaluate(validation_data)"
   ]
  }
 ],
 "metadata": {
  "colab": {
   "name": "Turicreate Recommender.ipynb",
   "provenance": []
  },
  "kernelspec": {
   "display_name": "Python 3",
   "language": "python",
   "name": "python3"
  },
  "language_info": {
   "codemirror_mode": {
    "name": "ipython",
    "version": 3
   },
   "file_extension": ".py",
   "mimetype": "text/x-python",
   "name": "python",
   "nbconvert_exporter": "python",
   "pygments_lexer": "ipython3",
   "version": "3.7.4"
  }
 },
 "nbformat": 4,
 "nbformat_minor": 1
}
