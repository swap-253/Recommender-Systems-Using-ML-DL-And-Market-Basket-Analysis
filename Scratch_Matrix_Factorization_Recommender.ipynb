{
 "cells": [
  {
   "cell_type": "code",
   "execution_count": 2,
   "metadata": {
    "id": "jUTC6BJ3AEme"
   },
   "outputs": [],
   "source": [
    "# Ignore  the warnings\n",
    "import warnings\n",
    "warnings.filterwarnings('always')\n",
    "warnings.filterwarnings('ignore')\n",
    "import time\n",
    "# data visualisation and manipulation\n",
    "import numpy as np\n",
    "import pandas as pd\n",
    "import matplotlib.pyplot as plt\n",
    "from matplotlib import style\n",
    "import seaborn as sns"
   ]
  },
  {
   "cell_type": "code",
   "execution_count": 6,
   "metadata": {
    "colab": {
     "base_uri": "https://localhost:8080/"
    },
    "id": "7Uayu4WLZU8s",
    "outputId": "53cab4b5-073e-4083-d20d-824dbf17f991"
   },
   "outputs": [
    {
     "name": "stdout",
     "output_type": "stream",
     "text": [
      "\n",
      "User Data :\n",
      "shape :  (943, 5)\n",
      "\n",
      "Ratings Data :\n",
      "shape :  (100000, 4)\n",
      "\n",
      "Item Data :\n",
      "shape :  (1682, 24)\n"
     ]
    }
   ],
   "source": [
    "# reading users file:\n",
    "u_cols = ['user_id', 'age', 'sex', 'occupation', 'zip_code']\n",
    "users = pd.read_csv('u.user', sep='|', names=u_cols,encoding='latin-1')\n",
    "\n",
    "# reading ratings file:\n",
    "r_cols = ['user_id', 'movie_id', 'rating', 'unix_timestamp']\n",
    "ratings = pd.read_csv('u.data', sep='\\t', names=r_cols,encoding='latin-1')\n",
    "\n",
    "# reading items file:\n",
    "i_cols = ['movie id', 'movie title' ,'release date','video release date', 'IMDb URL', 'unknown', 'Action', 'Adventure',\n",
    "'Animation', 'Children\\'s', 'Comedy', 'Crime', 'Documentary', 'Drama', 'Fantasy',\n",
    "'Film-Noir', 'Horror', 'Musical', 'Mystery', 'Romance', 'Sci-Fi', 'Thriller', 'War', 'Western']\n",
    "items = pd.read_csv('u.item', sep='|', names=i_cols,\n",
    "encoding='latin-1')\n",
    "\n",
    "# After loading the dataset, we should look at the content of each file (users, ratings, items).\n",
    "\n",
    "# Looking at the user file\n",
    "print(\"\\nUser Data :\")\n",
    "print(\"shape : \", users.shape)\n",
    "#print(users.head())\n",
    "\n",
    "# We have 943 users in the dataset and each user has 5 features, i.e. user_ID, age, sex, occupation and zip_code. Now let’s look at the ratings file.\n",
    "\n",
    "# Ratings Data\n",
    "print(\"\\nRatings Data :\")\n",
    "print(\"shape : \", ratings.shape)\n",
    "#print(ratings.head())\n",
    "\n",
    "# We have 100k ratings for different user and movie combinations. Now finally examine the items file.\n",
    "\n",
    "# Item Data\n",
    "print(\"\\nItem Data :\")\n",
    "print(\"shape : \", items.shape)\n",
    "#print(items.head())"
   ]
  },
  {
   "cell_type": "code",
   "execution_count": null,
   "metadata": {
    "colab": {
     "base_uri": "https://localhost:8080/",
     "height": 204
    },
    "id": "BfIj3JatZVAQ",
    "outputId": "c4586144-f1d2-4361-858c-a4ed0db81a05"
   },
   "outputs": [
    {
     "data": {
      "text/html": [
       "<div>\n",
       "<style scoped>\n",
       "    .dataframe tbody tr th:only-of-type {\n",
       "        vertical-align: middle;\n",
       "    }\n",
       "\n",
       "    .dataframe tbody tr th {\n",
       "        vertical-align: top;\n",
       "    }\n",
       "\n",
       "    .dataframe thead th {\n",
       "        text-align: right;\n",
       "    }\n",
       "</style>\n",
       "<table border=\"1\" class=\"dataframe\">\n",
       "  <thead>\n",
       "    <tr style=\"text-align: right;\">\n",
       "      <th></th>\n",
       "      <th>user_id</th>\n",
       "      <th>age</th>\n",
       "      <th>sex</th>\n",
       "      <th>occupation</th>\n",
       "      <th>zip_code</th>\n",
       "    </tr>\n",
       "  </thead>\n",
       "  <tbody>\n",
       "    <tr>\n",
       "      <th>0</th>\n",
       "      <td>1</td>\n",
       "      <td>24</td>\n",
       "      <td>M</td>\n",
       "      <td>technician</td>\n",
       "      <td>85711</td>\n",
       "    </tr>\n",
       "    <tr>\n",
       "      <th>1</th>\n",
       "      <td>2</td>\n",
       "      <td>53</td>\n",
       "      <td>F</td>\n",
       "      <td>other</td>\n",
       "      <td>94043</td>\n",
       "    </tr>\n",
       "    <tr>\n",
       "      <th>2</th>\n",
       "      <td>3</td>\n",
       "      <td>23</td>\n",
       "      <td>M</td>\n",
       "      <td>writer</td>\n",
       "      <td>32067</td>\n",
       "    </tr>\n",
       "    <tr>\n",
       "      <th>3</th>\n",
       "      <td>4</td>\n",
       "      <td>24</td>\n",
       "      <td>M</td>\n",
       "      <td>technician</td>\n",
       "      <td>43537</td>\n",
       "    </tr>\n",
       "    <tr>\n",
       "      <th>4</th>\n",
       "      <td>5</td>\n",
       "      <td>33</td>\n",
       "      <td>F</td>\n",
       "      <td>other</td>\n",
       "      <td>15213</td>\n",
       "    </tr>\n",
       "  </tbody>\n",
       "</table>\n",
       "</div>"
      ],
      "text/plain": [
       "   user_id  age sex  occupation zip_code\n",
       "0        1   24   M  technician    85711\n",
       "1        2   53   F       other    94043\n",
       "2        3   23   M      writer    32067\n",
       "3        4   24   M  technician    43537\n",
       "4        5   33   F       other    15213"
      ]
     },
     "execution_count": 5,
     "metadata": {
      "tags": []
     },
     "output_type": "execute_result"
    }
   ],
   "source": [
    "users.head()"
   ]
  },
  {
   "cell_type": "code",
   "execution_count": null,
   "metadata": {
    "colab": {
     "base_uri": "https://localhost:8080/",
     "height": 204
    },
    "id": "qNvHN71vXvph",
    "outputId": "a87bdaf7-e35b-4293-b778-02f7974a7620"
   },
   "outputs": [
    {
     "data": {
      "text/html": [
       "<div>\n",
       "<style scoped>\n",
       "    .dataframe tbody tr th:only-of-type {\n",
       "        vertical-align: middle;\n",
       "    }\n",
       "\n",
       "    .dataframe tbody tr th {\n",
       "        vertical-align: top;\n",
       "    }\n",
       "\n",
       "    .dataframe thead th {\n",
       "        text-align: right;\n",
       "    }\n",
       "</style>\n",
       "<table border=\"1\" class=\"dataframe\">\n",
       "  <thead>\n",
       "    <tr style=\"text-align: right;\">\n",
       "      <th></th>\n",
       "      <th>user_id</th>\n",
       "      <th>movie_id</th>\n",
       "      <th>rating</th>\n",
       "      <th>unix_timestamp</th>\n",
       "    </tr>\n",
       "  </thead>\n",
       "  <tbody>\n",
       "    <tr>\n",
       "      <th>0</th>\n",
       "      <td>196</td>\n",
       "      <td>242</td>\n",
       "      <td>3</td>\n",
       "      <td>881250949</td>\n",
       "    </tr>\n",
       "    <tr>\n",
       "      <th>1</th>\n",
       "      <td>186</td>\n",
       "      <td>302</td>\n",
       "      <td>3</td>\n",
       "      <td>891717742</td>\n",
       "    </tr>\n",
       "    <tr>\n",
       "      <th>2</th>\n",
       "      <td>22</td>\n",
       "      <td>377</td>\n",
       "      <td>1</td>\n",
       "      <td>878887116</td>\n",
       "    </tr>\n",
       "    <tr>\n",
       "      <th>3</th>\n",
       "      <td>244</td>\n",
       "      <td>51</td>\n",
       "      <td>2</td>\n",
       "      <td>880606923</td>\n",
       "    </tr>\n",
       "    <tr>\n",
       "      <th>4</th>\n",
       "      <td>166</td>\n",
       "      <td>346</td>\n",
       "      <td>1</td>\n",
       "      <td>886397596</td>\n",
       "    </tr>\n",
       "  </tbody>\n",
       "</table>\n",
       "</div>"
      ],
      "text/plain": [
       "   user_id  movie_id  rating  unix_timestamp\n",
       "0      196       242       3       881250949\n",
       "1      186       302       3       891717742\n",
       "2       22       377       1       878887116\n",
       "3      244        51       2       880606923\n",
       "4      166       346       1       886397596"
      ]
     },
     "execution_count": 8,
     "metadata": {
      "tags": []
     },
     "output_type": "execute_result"
    }
   ],
   "source": [
    "ratings.head()"
   ]
  },
  {
   "cell_type": "code",
   "execution_count": 7,
   "metadata": {
    "colab": {
     "base_uri": "https://localhost:8080/",
     "height": 204
    },
    "id": "U9sWyhFGAUQt",
    "outputId": "838d9564-2443-4d11-a602-455e19a48b05"
   },
   "outputs": [
    {
     "data": {
      "text/html": [
       "<div>\n",
       "<style scoped>\n",
       "    .dataframe tbody tr th:only-of-type {\n",
       "        vertical-align: middle;\n",
       "    }\n",
       "\n",
       "    .dataframe tbody tr th {\n",
       "        vertical-align: top;\n",
       "    }\n",
       "\n",
       "    .dataframe thead th {\n",
       "        text-align: right;\n",
       "    }\n",
       "</style>\n",
       "<table border=\"1\" class=\"dataframe\">\n",
       "  <thead>\n",
       "    <tr style=\"text-align: right;\">\n",
       "      <th></th>\n",
       "      <th>user_id</th>\n",
       "      <th>movie_id</th>\n",
       "      <th>rating</th>\n",
       "      <th>unix_timestamp</th>\n",
       "      <th>rating_date</th>\n",
       "    </tr>\n",
       "  </thead>\n",
       "  <tbody>\n",
       "    <tr>\n",
       "      <th>0</th>\n",
       "      <td>196</td>\n",
       "      <td>242</td>\n",
       "      <td>3</td>\n",
       "      <td>881250949</td>\n",
       "      <td>04-12-1997</td>\n",
       "    </tr>\n",
       "    <tr>\n",
       "      <th>1</th>\n",
       "      <td>186</td>\n",
       "      <td>302</td>\n",
       "      <td>3</td>\n",
       "      <td>891717742</td>\n",
       "      <td>04-04-1998</td>\n",
       "    </tr>\n",
       "    <tr>\n",
       "      <th>2</th>\n",
       "      <td>22</td>\n",
       "      <td>377</td>\n",
       "      <td>1</td>\n",
       "      <td>878887116</td>\n",
       "      <td>07-11-1997</td>\n",
       "    </tr>\n",
       "    <tr>\n",
       "      <th>3</th>\n",
       "      <td>244</td>\n",
       "      <td>51</td>\n",
       "      <td>2</td>\n",
       "      <td>880606923</td>\n",
       "      <td>27-11-1997</td>\n",
       "    </tr>\n",
       "    <tr>\n",
       "      <th>4</th>\n",
       "      <td>166</td>\n",
       "      <td>346</td>\n",
       "      <td>1</td>\n",
       "      <td>886397596</td>\n",
       "      <td>02-02-1998</td>\n",
       "    </tr>\n",
       "  </tbody>\n",
       "</table>\n",
       "</div>"
      ],
      "text/plain": [
       "   user_id  movie_id  rating  unix_timestamp rating_date\n",
       "0      196       242       3       881250949  04-12-1997\n",
       "1      186       302       3       891717742  04-04-1998\n",
       "2       22       377       1       878887116  07-11-1997\n",
       "3      244        51       2       880606923  27-11-1997\n",
       "4      166       346       1       886397596  02-02-1998"
      ]
     },
     "execution_count": 7,
     "metadata": {
      "tags": []
     },
     "output_type": "execute_result"
    }
   ],
   "source": [
    "#converting the unix timestamp of ratings to a  date\n",
    "from datetime import datetime\n",
    "def time_stamp(k):\n",
    "  return datetime.fromtimestamp(k).strftime('%d-%m-%Y')\n",
    "ratings['rating_date'] = ratings['unix_timestamp'].apply(time_stamp)\n",
    "ratings.head()"
   ]
  },
  {
   "cell_type": "code",
   "execution_count": 8,
   "metadata": {
    "colab": {
     "base_uri": "https://localhost:8080/"
    },
    "id": "6ZtwHCXpBD7P",
    "outputId": "122d7e4e-12d3-4ec1-d2c4-0f3a7d09fdff"
   },
   "outputs": [
    {
     "name": "stdout",
     "output_type": "stream",
     "text": [
      "1997\n",
      "1998\n"
     ]
    }
   ],
   "source": [
    "print(pd.DatetimeIndex(ratings['rating_date']).year.min())\n",
    "print(pd.DatetimeIndex(ratings['rating_date']).year.max())"
   ]
  },
  {
   "cell_type": "code",
   "execution_count": null,
   "metadata": {
    "colab": {
     "base_uri": "https://localhost:8080/",
     "height": 204
    },
    "id": "gLTMfGYCAUUx",
    "outputId": "c137e3b2-0148-4d51-fda2-1b02ec7a475c"
   },
   "outputs": [],
   "source": [
    "#finding the no of days since the rating is given on movies from a specified date('01-11-1998')\n",
    "date_format = \"%d-%m-%Y\"\n",
    "def sub_dates(a):\n",
    "  return (datetime.strptime('01-11-1998', date_format)-a).days   \n",
    "def dat_strp(a):\n",
    "    return datetime.strptime(a, date_format)\n",
    "ratings['new_date']=ratings['rating_date'].apply(dat_strp)    \n",
    "ratings['days_diff']=ratings['new_date'].apply(sub_dates) \n",
    "#conversion of no of days to years\n",
    "ratings['years_diff']=round(ratings['days_diff']/365,2)\n",
    "ratings.head() "
   ]
  },
  {
   "cell_type": "code",
   "execution_count": 10,
   "metadata": {
    "colab": {
     "base_uri": "https://localhost:8080/",
     "height": 204
    },
    "id": "7vzT2TvZFG9y",
    "outputId": "f29f3aa2-4bd9-4ec2-f3a4-419890e3fb1b"
   },
   "outputs": [
    {
     "data": {
      "text/html": [
       "<div>\n",
       "<style scoped>\n",
       "    .dataframe tbody tr th:only-of-type {\n",
       "        vertical-align: middle;\n",
       "    }\n",
       "\n",
       "    .dataframe tbody tr th {\n",
       "        vertical-align: top;\n",
       "    }\n",
       "\n",
       "    .dataframe thead th {\n",
       "        text-align: right;\n",
       "    }\n",
       "</style>\n",
       "<table border=\"1\" class=\"dataframe\">\n",
       "  <thead>\n",
       "    <tr style=\"text-align: right;\">\n",
       "      <th></th>\n",
       "      <th>user_id</th>\n",
       "      <th>movie_id</th>\n",
       "      <th>rating</th>\n",
       "      <th>rating_date</th>\n",
       "      <th>days_diff</th>\n",
       "      <th>years_diff</th>\n",
       "    </tr>\n",
       "  </thead>\n",
       "  <tbody>\n",
       "    <tr>\n",
       "      <th>0</th>\n",
       "      <td>196</td>\n",
       "      <td>242</td>\n",
       "      <td>3</td>\n",
       "      <td>04-12-1997</td>\n",
       "      <td>332</td>\n",
       "      <td>0.91</td>\n",
       "    </tr>\n",
       "    <tr>\n",
       "      <th>1</th>\n",
       "      <td>186</td>\n",
       "      <td>302</td>\n",
       "      <td>3</td>\n",
       "      <td>04-04-1998</td>\n",
       "      <td>211</td>\n",
       "      <td>0.58</td>\n",
       "    </tr>\n",
       "    <tr>\n",
       "      <th>2</th>\n",
       "      <td>22</td>\n",
       "      <td>377</td>\n",
       "      <td>1</td>\n",
       "      <td>07-11-1997</td>\n",
       "      <td>359</td>\n",
       "      <td>0.98</td>\n",
       "    </tr>\n",
       "    <tr>\n",
       "      <th>3</th>\n",
       "      <td>244</td>\n",
       "      <td>51</td>\n",
       "      <td>2</td>\n",
       "      <td>27-11-1997</td>\n",
       "      <td>339</td>\n",
       "      <td>0.93</td>\n",
       "    </tr>\n",
       "    <tr>\n",
       "      <th>4</th>\n",
       "      <td>166</td>\n",
       "      <td>346</td>\n",
       "      <td>1</td>\n",
       "      <td>02-02-1998</td>\n",
       "      <td>272</td>\n",
       "      <td>0.75</td>\n",
       "    </tr>\n",
       "  </tbody>\n",
       "</table>\n",
       "</div>"
      ],
      "text/plain": [
       "   user_id  movie_id  rating rating_date  days_diff  years_diff\n",
       "0      196       242       3  04-12-1997        332        0.91\n",
       "1      186       302       3  04-04-1998        211        0.58\n",
       "2       22       377       1  07-11-1997        359        0.98\n",
       "3      244        51       2  27-11-1997        339        0.93\n",
       "4      166       346       1  02-02-1998        272        0.75"
      ]
     },
     "execution_count": 10,
     "metadata": {
      "tags": []
     },
     "output_type": "execute_result"
    }
   ],
   "source": [
    "#dropping the below columns \n",
    "ratings.drop(['unix_timestamp','new_date'],axis=1,inplace=True)\n",
    "ratings.head()"
   ]
  },
  {
   "cell_type": "code",
   "execution_count": null,
   "metadata": {
    "colab": {
     "base_uri": "https://localhost:8080/"
    },
    "id": "a7fszSUFFHDe",
    "outputId": "bd54957c-e24a-4e07-a60a-a90d732fb555"
   },
   "outputs": [],
   "source": [
    "ratings['years_diff'].describe()"
   ]
  },
  {
   "cell_type": "code",
   "execution_count": null,
   "metadata": {
    "colab": {
     "base_uri": "https://localhost:8080/",
     "height": 204
    },
    "id": "rA5RTsvQFHFz",
    "outputId": "9e178d1c-c2db-41a6-ca39-1dafcefa443d"
   },
   "outputs": [],
   "source": [
    "#for these values select m=0.425 and n=0.25, this idea is based on max and min values of years difference to get weighted difference\n",
    "m,n=0.425,0.25\n",
    "ratings['weighted_diff']=m*ratings['years_diff']+n\n",
    "ratings.head()"
   ]
  },
  {
   "cell_type": "code",
   "execution_count": 12,
   "metadata": {
    "colab": {
     "base_uri": "https://localhost:8080/",
     "height": 204
    },
    "id": "sBa1sxvkJ6SJ",
    "outputId": "f9cbb1a3-0619-4d6f-f2e5-5774890f0011"
   },
   "outputs": [
    {
     "data": {
      "text/html": [
       "<div>\n",
       "<style scoped>\n",
       "    .dataframe tbody tr th:only-of-type {\n",
       "        vertical-align: middle;\n",
       "    }\n",
       "\n",
       "    .dataframe tbody tr th {\n",
       "        vertical-align: top;\n",
       "    }\n",
       "\n",
       "    .dataframe thead th {\n",
       "        text-align: right;\n",
       "    }\n",
       "</style>\n",
       "<table border=\"1\" class=\"dataframe\">\n",
       "  <thead>\n",
       "    <tr style=\"text-align: right;\">\n",
       "      <th></th>\n",
       "      <th>user_id</th>\n",
       "      <th>movie_id</th>\n",
       "      <th>rating</th>\n",
       "      <th>rating_date</th>\n",
       "      <th>days_diff</th>\n",
       "      <th>years_diff</th>\n",
       "      <th>weighted_diff</th>\n",
       "      <th>final_ratings</th>\n",
       "    </tr>\n",
       "  </thead>\n",
       "  <tbody>\n",
       "    <tr>\n",
       "      <th>0</th>\n",
       "      <td>196</td>\n",
       "      <td>242</td>\n",
       "      <td>3</td>\n",
       "      <td>04-12-1997</td>\n",
       "      <td>332</td>\n",
       "      <td>0.91</td>\n",
       "      <td>0.63675</td>\n",
       "      <td>4.71</td>\n",
       "    </tr>\n",
       "    <tr>\n",
       "      <th>1</th>\n",
       "      <td>186</td>\n",
       "      <td>302</td>\n",
       "      <td>3</td>\n",
       "      <td>04-04-1998</td>\n",
       "      <td>211</td>\n",
       "      <td>0.58</td>\n",
       "      <td>0.49650</td>\n",
       "      <td>6.04</td>\n",
       "    </tr>\n",
       "    <tr>\n",
       "      <th>2</th>\n",
       "      <td>22</td>\n",
       "      <td>377</td>\n",
       "      <td>1</td>\n",
       "      <td>07-11-1997</td>\n",
       "      <td>359</td>\n",
       "      <td>0.98</td>\n",
       "      <td>0.66650</td>\n",
       "      <td>1.50</td>\n",
       "    </tr>\n",
       "    <tr>\n",
       "      <th>3</th>\n",
       "      <td>244</td>\n",
       "      <td>51</td>\n",
       "      <td>2</td>\n",
       "      <td>27-11-1997</td>\n",
       "      <td>339</td>\n",
       "      <td>0.93</td>\n",
       "      <td>0.64525</td>\n",
       "      <td>3.10</td>\n",
       "    </tr>\n",
       "    <tr>\n",
       "      <th>4</th>\n",
       "      <td>166</td>\n",
       "      <td>346</td>\n",
       "      <td>1</td>\n",
       "      <td>02-02-1998</td>\n",
       "      <td>272</td>\n",
       "      <td>0.75</td>\n",
       "      <td>0.56875</td>\n",
       "      <td>1.76</td>\n",
       "    </tr>\n",
       "  </tbody>\n",
       "</table>\n",
       "</div>"
      ],
      "text/plain": [
       "   user_id  movie_id  rating  ... years_diff  weighted_diff  final_ratings\n",
       "0      196       242       3  ...       0.91        0.63675           4.71\n",
       "1      186       302       3  ...       0.58        0.49650           6.04\n",
       "2       22       377       1  ...       0.98        0.66650           1.50\n",
       "3      244        51       2  ...       0.93        0.64525           3.10\n",
       "4      166       346       1  ...       0.75        0.56875           1.76\n",
       "\n",
       "[5 rows x 8 columns]"
      ]
     },
     "execution_count": 12,
     "metadata": {
      "tags": []
     },
     "output_type": "execute_result"
    }
   ],
   "source": [
    "#Now I am gonna create new ratings which are time based/temporal\n",
    "ratings['final_ratings']=round(ratings['rating']/ratings['weighted_diff'],2)\n",
    "ratings.head()"
   ]
  },
  {
   "cell_type": "code",
   "execution_count": null,
   "metadata": {
    "colab": {
     "base_uri": "https://localhost:8080/"
    },
    "id": "UIz-sSSBJ6XO",
    "outputId": "485da9a1-4be6-4030-ccc0-551c66882c79"
   },
   "outputs": [],
   "source": [
    "ratings['final_ratings'].describe()"
   ]
  },
  {
   "cell_type": "code",
   "execution_count": 13,
   "metadata": {
    "id": "5lfQ1dkFd9WY"
   },
   "outputs": [],
   "source": [
    "n_users = ratings.user_id.unique().shape[0]\n",
    "n_items = ratings.movie_id.unique().shape[0]\n",
    "data_matrix = np.zeros((n_users, n_items))"
   ]
  },
  {
   "cell_type": "code",
   "execution_count": 14,
   "metadata": {
    "colab": {
     "base_uri": "https://localhost:8080/"
    },
    "id": "Ijit9kaMfM_D",
    "outputId": "1483af20-ec58-40d8-b8a9-054390881308"
   },
   "outputs": [
    {
     "data": {
      "text/plain": [
       "array([[6.93, 4.31, 5.96, ..., 0.  , 0.  , 0.  ],\n",
       "       [7.42, 0.  , 0.  , ..., 0.  , 0.  , 0.  ],\n",
       "       [0.  , 0.  , 0.  , ..., 0.  , 0.  , 0.  ],\n",
       "       ...,\n",
       "       [6.93, 0.  , 0.  , ..., 0.  , 0.  , 0.  ],\n",
       "       [0.  , 0.  , 0.  , ..., 0.  , 0.  , 0.  ],\n",
       "       [0.  , 9.35, 0.  , ..., 0.  , 0.  , 0.  ]])"
      ]
     },
     "execution_count": 14,
     "metadata": {
      "tags": []
     },
     "output_type": "execute_result"
    }
   ],
   "source": [
    "#basically here I am filling the respective user ids(line[1]) and movies(line[2]) with the value final ratings(line[8])\n",
    "for line in ratings.itertuples():\n",
    "    data_matrix[line[1]-1,line[2]-1] = line[8]\n",
    "data_matrix    "
   ]
  },
  {
   "cell_type": "markdown",
   "metadata": {
    "id": "sakyWHvjiw2n"
   },
   "source": [
    "# **A Self Created Function For Matrix Factorization**"
   ]
  },
  {
   "cell_type": "code",
   "execution_count": 26,
   "metadata": {
    "id": "sCebvfsdsEl2"
   },
   "outputs": [],
   "source": [
    "class MF():\n",
    "\n",
    "    # Initializing the user-movie rating matrix, no. of latent features, alpha and beta.\n",
    "    def __init__(self, R, K, alpha, beta, iterations,optimiz_algo):\n",
    "        self.R = R\n",
    "        self.num_users, self.num_items = R.shape\n",
    "        self.K = K\n",
    "        self.alpha = alpha\n",
    "        self.beta = beta\n",
    "        self.iterations = iterations\n",
    "        #The below initializations have been done for Adam Optimization and RMS Prop algos\n",
    "        self.m_dP,self.m_dQ,self.v_dP,self.v_dQ = 0,0,0,0\n",
    "        self.m_db1,self.m_db2,self.v_db1,self.v_db2 = 0,0,0,0\n",
    "        self.beta1 = 0.9\n",
    "        self.beta2 = 0.99\n",
    "        self.epsilon = 1e-8\n",
    "        self.eta = 0.01\n",
    "        self.optimiz_algo=optimiz_algo\n",
    "\n",
    "    # Initializing user-feature and movie-feature matrix \n",
    "    def train(self):\n",
    "        self.P = np.random.normal(scale=1./self.K, size=(self.num_users, self.K))\n",
    "        self.Q = np.random.normal(scale=1./self.K, size=(self.num_items, self.K))\n",
    "\n",
    "        # Initializing the bias terms\n",
    "        self.b_u = np.zeros(self.num_users)\n",
    "        self.b_i = np.zeros(self.num_items)\n",
    "        self.b = np.mean(self.R[np.where(self.R != 0)])\n",
    "\n",
    "        # List of training samples\n",
    "        self.samples = [\n",
    "        (i, j, self.R[i, j])\n",
    "        for i in range(self.num_users)\n",
    "        for j in range(self.num_items)\n",
    "        if self.R[i, j] > 0\n",
    "        ]\n",
    "\n",
    "        # Stochastic gradient descent for given number of iterations\n",
    "        training_process = []\n",
    "        for i in range(self.iterations):\n",
    "          \n",
    "          t=i+1 #for use in Adam's optimization\n",
    "          np.random.shuffle(self.samples)\n",
    "          if(self.optimiz_algo==3):\n",
    "            self.Adam(t)\n",
    "          if(self.optimiz_algo==1):\n",
    "            self.sgd()\n",
    "          elif(self.optimiz_algo==2):\n",
    "            self.rms()      \n",
    "          mse = self.mse()\n",
    "          training_process.append((i, mse))\n",
    "          #to check outcome after every 20 iterations\n",
    "          if (i+1) % 20 == 0:\n",
    "            print(\"Iteration: %d ; error = %.4f\" % (i+1, mse))\n",
    "\n",
    "        return training_process\n",
    "\n",
    "    # Computing total mean squared error\n",
    "    def mse(self):\n",
    "        xs, ys = self.R.nonzero()\n",
    "        predicted = self.full_matrix()\n",
    "        error = 0\n",
    "        for x, y in zip(xs, ys):\n",
    "            error += pow(self.R[x, y] - predicted[x, y], 2)\n",
    "        return np.sqrt(error)\n",
    "\n",
    "    # Stochastic gradient descent to get optimized P and Q matrix\n",
    "    def sgd(self):\n",
    "        for i, j, r in self.samples:\n",
    "            prediction = self.get_rating(i, j)\n",
    "            e = (r - prediction)\n",
    "\n",
    "            self.b_u[i] += self.alpha * (e - self.beta * self.b_u[i])\n",
    "            self.b_i[j] += self.alpha * (e - self.beta * self.b_i[j])\n",
    "\n",
    "            self.P[i, :] += self.alpha * (e * self.Q[j, :] - self.beta * self.P[i,:])\n",
    "            self.Q[j, :] += self.alpha * (e * self.P[i, :] - self.beta * self.Q[j,:])\n",
    "        #print('mP=',self.P[i, :],'mQ=',self.Q[j, :],'b1=',self.b_u[i],'b2=',self.b_i[j]) \n",
    "    def rms(self):\n",
    "        for i, j, r in self.samples:  \n",
    "            prediction = self.get_rating(i, j)\n",
    "            e = (r - prediction)\n",
    "            dP= -(e * self.Q[j, :] - self.beta * self.P[i,:])\n",
    "            dQ= -(e * self.P[i, :] - self.beta * self.Q[j,:])\n",
    "            db1= -(e - self.beta * self.b_u[i])\n",
    "            db2= -(e - self.beta * self.b_i[j])\n",
    "            ## rms beta 2\n",
    "            # *** weights *** #\n",
    "            self.v_dP = self.beta2*self.v_dP + (1-self.beta2)*(dP**2)\n",
    "            self.v_dQ = self.beta2*self.v_dQ + (1-self.beta2)*(dQ**2)\n",
    "            # *** biases *** #\n",
    "            self.v_db1 = self.beta2*self.v_db1 + (1-self.beta2)*(db1**2)\n",
    "            self.v_db2 = self.beta2*self.v_db2 + (1-self.beta2)*(db2**2)\n",
    "            # update weights and biases\n",
    "            self.P[i, :] = self.P[i, :] - self.eta*(dP/(np.sqrt(self.v_dP)+self.epsilon))\n",
    "            self.Q[j, :] = self.Q[j, :] - self.eta*(dQ/(np.sqrt(self.v_dQ)+self.epsilon)) \n",
    "            self.b_u[i] = self.b_u[i] - self.eta*(db1/(np.sqrt(self.v_db1)+self.epsilon))\n",
    "            self.b_i[j] = self.b_i[j] - self.eta*(db2/(np.sqrt(self.v_db2)+self.epsilon))\n",
    "            \n",
    "    def Adam(self,t):\n",
    "        for i, j, r in self.samples:  \n",
    "            prediction = self.get_rating(i, j)\n",
    "            e = (r - prediction)    \n",
    "            dP= -(e * self.Q[j, :] - self.beta * self.P[i,:])\n",
    "            dQ= -(e * self.P[i, :] - self.beta * self.Q[j,:])\n",
    "            db1= -(e - self.beta * self.b_u[i])\n",
    "            db2= -(e - self.beta * self.b_i[j])\n",
    "            self.m_dP = self.beta1*self.m_dP + (1-self.beta1)*dP\n",
    "            self.m_dQ = self.beta1*self.m_dQ + (1-self.beta1)*dQ\n",
    "            # *** biases *** #\n",
    "            self.m_db1 = self.beta1*self.m_db1 + (1-self.beta1)*db1\n",
    "            self.m_db2 = self.beta1*self.m_db2 + (1-self.beta1)*db2  \n",
    "            ## rms beta 2\n",
    "            # *** weights *** #\n",
    "            self.v_dP = self.beta2*self.v_dP + (1-self.beta2)*(dP**2)\n",
    "            self.v_dQ = self.beta2*self.v_dQ + (1-self.beta2)*(dQ**2)\n",
    "            # *** biases *** #\n",
    "            self.v_db1 = self.beta2*self.v_db1 + (1-self.beta2)*(db1**2)\n",
    "            self.v_db2 = self.beta2*self.v_db2 + (1-self.beta2)*(db2**2)\n",
    "\n",
    "            # bias correction\n",
    "            m_dP_corr = self.m_dP/(1-self.beta1**t)\n",
    "            m_dQ_corr = self.m_dQ/(1-self.beta1**t)\n",
    "            m_db1_corr = self.m_db1/(1-self.beta1**t)\n",
    "            m_db2_corr = self.m_db2/(1-self.beta1**t)\n",
    "            v_dP_corr = self.v_dP/(1-self.beta2**t)\n",
    "            v_dQ_corr = self.v_dQ/(1-self.beta2**t)\n",
    "            v_db1_corr = self.v_db1/(1-self.beta2**t)\n",
    "            v_db2_corr = self.v_db2/(1-self.beta2**t)\n",
    "            #print('mP=',m_dP_corr,'mQ=',m_dQ_corr,'vP=',v_dP_corr,'vQ=',v_dQ_corr)  \n",
    "            # update weights and biases\n",
    "            self.P[i, :] = self.P[i, :] - self.eta*(m_dP_corr/(np.sqrt(v_dP_corr)+self.epsilon))\n",
    "            self.Q[j, :] = self.Q[j, :] - self.eta*(m_dQ_corr/(np.sqrt(v_dQ_corr)+self.epsilon)) \n",
    "            self.b_u[i] = self.b_u[i] - self.eta*(m_db1_corr/(np.sqrt(v_db1_corr)+self.epsilon))\n",
    "            self.b_i[j] = self.b_i[j] - self.eta*(m_db2_corr/(np.sqrt(v_db2_corr)+self.epsilon))\n",
    "            #print('for Iteration=',t)\n",
    "        #print('mP=',self.P[i, :],'mQ=',self.Q[j, :],'b1=',self.b_u[i],'b2=',self.b_i[j])  \n",
    "        #print('val_of_t=',t)         \n",
    "    # Ratings for user i and movie j\n",
    "    def get_rating(self, i, j):\n",
    "        prediction = self.b + self.b_u[i] + self.b_i[j] + self.P[i, :].dot(self.Q[j, :].T)\n",
    "        return prediction\n",
    "\n",
    "    # Full user-movie rating matrix\n",
    "    def full_matrix(self):\n",
    "        return mf.b + mf.b_u[:,np.newaxis] + mf.b_i[np.newaxis:,] + mf.P.dot(mf.Q.T)"
   ]
  },
  {
   "cell_type": "markdown",
   "metadata": {
    "id": "AU_ol4MAEUz2"
   },
   "source": [
    "R – The user-movie rating matrix\n",
    "<br>\n",
    "K – Number of latent features\n",
    "<br>\n",
    "alpha – Learning rate for stochastic gradient descent\n",
    "<br>\n",
    "beta – Regularization parameter for bias\n",
    "<br>\n",
    "iterations – Number of iterations to perform stochastic gradient descent"
   ]
  },
  {
   "cell_type": "markdown",
   "metadata": {
    "id": "Mu-6-63QtV40"
   },
   "source": [
    "**In optimiz_algo argument pass 1 for stochastic gradient descent optimization, 2 for rms prop and 3 for Adam , we will check each of these**"
   ]
  },
  {
   "cell_type": "code",
   "execution_count": 20,
   "metadata": {
    "colab": {
     "base_uri": "https://localhost:8080/"
    },
    "id": "S-nlz_K7sEoo",
    "outputId": "b0cc7d09-36c4-4545-d8c6-f1678c04d740"
   },
   "outputs": [
    {
     "name": "stdout",
     "output_type": "stream",
     "text": [
      "Iteration: 20 ; error = 332.1550\n",
      "Iteration: 40 ; error = 304.1338\n",
      "Iteration: 60 ; error = 295.1879\n",
      "Iteration: 80 ; error = 290.9069\n",
      "Iteration: 100 ; error = 288.3020\n",
      "\n",
      "P x Q:\n",
      "[[ 5.85425303  4.72359115  6.57067244 ...  4.24006339  5.04275109\n",
      "   4.7248933 ]\n",
      " [ 7.07216722  5.74623694  5.50216316 ...  5.64885351  6.43095164\n",
      "   6.19339998]\n",
      " [ 5.88484623  4.62089542  3.34415432 ...  4.96156998  5.42685738\n",
      "   5.2878281 ]\n",
      " ...\n",
      " [ 6.7385807   5.33042137  7.35364109 ...  4.69131941  5.34923002\n",
      "   5.10220769]\n",
      " [ 7.91653043 10.33343282 11.62011094 ...  7.90288867  7.93364397\n",
      "   7.87679205]\n",
      " [ 5.21625639  8.89849227  6.66468945 ...  5.16646079  4.99157564\n",
      "   4.97139743]]\n",
      "\n"
     ]
    }
   ],
   "source": [
    "#prediction of ratings using Matrix Factorization using sgd optimization Algo\n",
    "R= np.array(ratings.pivot(index = 'user_id', columns ='movie_id', values = 'final_ratings').fillna(0))\n",
    "mf = MF(R, K=20, alpha=0.01, beta=0.005, iterations=100,optimiz_algo=1)\n",
    "training_process = mf.train()\n",
    "print()\n",
    "print(\"P x Q:\")\n",
    "print(mf.full_matrix())\n",
    "print()"
   ]
  },
  {
   "cell_type": "code",
   "execution_count": 22,
   "metadata": {
    "colab": {
     "base_uri": "https://localhost:8080/"
    },
    "id": "BgPpcDpisErI",
    "outputId": "ab0c4ac6-0ad0-47ae-e164-0fe1afbdc900"
   },
   "outputs": [
    {
     "name": "stdout",
     "output_type": "stream",
     "text": [
      "capture rate= [3, 0, 1, 0, 0, 6, 2, 0, 0, 1, 2, 0, 3, 0, 0, 6, 0, 9, 0, 0, 0, 0, 4, 2, 0, 2, 0, 3, 0, 0, 0, 0, 0, 0, 1, 0, 0, 0, 0, 0, 0, 3, 5, 1, 0, 0, 2, 0, 2, 0, 0, 1, 0, 0, 0, 1, 0, 0, 6, 1, 0, 3, 0, 6, 1, 0, 0, 0, 2, 4, 0, 0, 1, 3, 0, 3, 0, 0, 0, 0, 0, 2, 3, 0, 5, 0, 2, 0, 0, 1, 0, 4, 0, 4, 3, 0, 0, 0, 0, 4, 0, 3, 0, 2, 0, 0, 0, 0, 2, 0, 0, 0, 0, 0, 0, 5, 0, 0, 5, 0, 0, 0, 0, 0, 0, 0, 0, 1, 0, 4, 0, 1, 0, 0, 0, 0, 0, 0, 0, 0, 1, 0, 0, 5, 2, 0, 0, 0, 0, 0, 4, 3, 0, 3, 0, 0, 0, 0, 1, 2, 1, 0, 0, 0, 0, 0, 0, 0, 0, 0, 0, 0, 0, 1, 1, 0, 2, 7, 2, 0, 0, 0, 0, 5, 0, 0, 0, 0, 1, 1, 3, 0, 0, 8, 1, 0, 0, 3, 0, 4, 6, 0, 0, 0, 0, 0, 3, 0, 0, 1, 0, 0, 0, 4, 0, 4, 0, 0, 0, 0, 1, 8, 0, 5, 0, 0, 1, 0, 0, 0, 0, 0, 0, 10, 4, 2, 0, 0, 0, 0, 0, 0, 0, 1, 0, 0, 0, 0, 3, 0, 3, 0, 0, 5, 0, 0, 0, 0, 0, 0, 0, 0, 1, 1, 0, 0, 5, 7, 3, 0, 12, 0, 0, 0, 2, 13, 0, 0, 0, 0, 0, 0, 0, 4, 0, 1, 1, 0, 0, 5, 3, 3, 10, 4, 0, 0, 5, 3, 4, 0, 3, 0, 11, 0, 1, 0, 0, 4, 0, 0, 6, 1, 2, 1, 0, 0, 0, 2, 0, 4, 2, 0, 0, 0, 1, 0, 5, 4, 0, 1, 0, 5, 0, 10, 0, 0, 0, 0, 5, 0, 0, 3, 3, 4, 3, 0, 2, 1, 0, 0, 0, 0, 0, 3, 0, 1, 0, 0, 1, 5, 1, 0, 1, 0, 0, 0, 0, 0, 0, 0, 0, 0, 0, 2, 1, 0, 0, 5, 4, 2, 1, 0, 0, 0, 3, 0, 5, 0, 4, 0, 0, 0, 5, 1, 2, 0, 10, 6, 1, 0, 0, 2, 0, 0, 0, 5, 3, 0, 0, 0, 0, 0, 0, 0, 0, 1, 4, 0, 0, 0, 0, 0, 0, 0, 5, 0, 0, 0, 7, 1, 0, 0, 0, 0, 6, 2, 4, 0, 0, 0, 0, 2, 0, 0, 3, 0, 4, 0, 1, 7, 1, 0, 7, 7, 3, 1, 8, 0, 1, 0, 0, 0, 1, 0, 0, 1, 0, 3, 1, 0, 0, 0, 0, 9, 0, 0, 0, 0, 3, 0, 0, 0, 0, 0, 0, 2, 3, 3, 0, 0, 0, 0, 1, 0, 0, 1, 3, 4, 0, 2, 0, 0, 1, 0, 2, 7, 0, 0, 0, 1, 0, 0, 0, 5, 0, 0, 0, 0, 0, 0, 3, 0, 0, 0, 0, 1, 3, 0, 0, 0, 0, 0, 3, 0, 0, 1, 13, 1, 0, 0, 0, 2, 0, 0, 2, 0, 0, 1, 0, 0, 0, 0, 0, 2, 0, 0, 0, 0, 0, 1, 7, 0, 0, 0, 0, 1, 0, 1, 1, 0, 0, 0, 1, 0, 0, 0, 0, 1, 1, 0, 0, 1, 0, 0, 0, 6, 3, 0, 0, 0, 2, 15, 4, 0, 0, 0, 0, 0, 0, 0, 2, 0, 0, 0, 1, 5, 0, 0, 0, 0, 0, 0, 0, 0, 4, 0, 0, 8, 0, 0, 1, 3, 0, 4, 1, 0, 0, 0, 2, 1, 0, 6, 0, 4, 0, 0, 1, 1, 0, 2, 1, 0, 2, 0, 7, 1, 0, 2, 0, 6, 0, 0, 5, 1, 13, 1, 0, 1, 2, 2, 5, 0, 2, 4, 0, 2, 0, 0, 0, 0, 0, 0, 0, 0, 0, 0, 0, 0, 0, 0, 0, 4, 0, 0, 0, 0, 0, 0, 0, 1, 0, 0, 3, 3, 0, 0, 0, 1, 2, 1, 0, 0, 0, 0, 0, 0, 0, 0, 5, 3, 4, 0, 0, 0, 5, 7, 0, 0, 2, 0, 0, 0, 1, 2, 0, 0, 4, 0, 0, 0, 0, 0, 1, 0, 0, 0, 0, 4, 0, 0, 0, 0, 0, 0, 0, 0, 11, 4, 3, 0, 0, 0, 0, 0, 1, 0, 5, 4, 0, 0, 0, 0, 0, 1, 0, 1, 0, 2, 0, 0, 0, 0, 1, 2, 0, 0, 0, 0, 0, 0, 0, 1, 0, 0, 0, 3, 2, 1, 0, 1, 0, 0, 0, 0, 0, 6, 0, 0, 0, 0, 0, 0, 0, 2, 1, 0, 5, 0, 1, 0, 0, 0, 0, 0, 2, 0, 0, 0, 0, 2, 1, 0, 6, 0, 3, 0, 0, 0, 0, 0, 1, 0, 0, 0, 0, 0, 0, 0, 0, 4, 0, 0, 0, 0, 0, 4, 0, 0, 0, 0, 7, 0, 0, 2, 0, 0, 0, 0, 0, 0, 0, 0, 3, 6, 1, 0, 0, 4, 0, 7, 3, 3, 0, 2, 3, 0, 0, 1, 0, 7, 3, 6, 1, 0, 1, 2, 0, 0, 7, 0, 0, 5, 0, 5, 0, 9, 1, 0, 1, 0, 1, 0, 2, 0, 0, 0, 1, 3, 0, 1, 0, 0, 3, 0, 0, 7, 0, 0, 3, 0, 0, 2, 0, 2, 0, 0, 0, 0, 1, 0, 1, 3, 5, 0, 0, 0, 0, 0, 0, 0, 0, 0, 1]\n",
      "The total number of top 15 recommended movies which had been already watched by users is\n",
      "1076\n"
     ]
    }
   ],
   "source": [
    "#After sgd\n",
    "res=mf.full_matrix()\n",
    "count=[]\n",
    "for i in range(n_users):\n",
    "    c=0\n",
    "    #for each user we are getting his top 15 rated movies\n",
    "    k=np.argsort(res[i])[::-1][:15]\n",
    "    #Now we are checking how many of the highest rated movies the user has already watched\n",
    "    for j in k:\n",
    "      if data_matrix[i][j]>=res[i][::-1][:15].min():\n",
    "        c+=1\n",
    "    count.append(c)  \n",
    "print('capture rate=',count) \n",
    "print('The total number of top 15 recommended movies which had been already watched by users is')       \n",
    "print(sum(count))"
   ]
  },
  {
   "cell_type": "code",
   "execution_count": 27,
   "metadata": {
    "colab": {
     "base_uri": "https://localhost:8080/"
    },
    "id": "tRcc_8ybXvxV",
    "outputId": "d34d8777-094f-47b8-fdad-022250b43cdf"
   },
   "outputs": [
    {
     "name": "stdout",
     "output_type": "stream",
     "text": [
      "Iteration: 20 ; error = 309.5850\n",
      "Iteration: 40 ; error = 296.0973\n",
      "Iteration: 60 ; error = 290.8980\n",
      "Iteration: 80 ; error = 288.2814\n",
      "Iteration: 100 ; error = 286.3889\n",
      "\n",
      "P x Q:\n",
      "[[ 5.53434395  4.43766373  7.16620716 ...  5.05713913  5.43460486\n",
      "   4.74604279]\n",
      " [ 8.16441579  7.37529455  4.05407087 ...  6.68859905  6.88173089\n",
      "   6.40705734]\n",
      " [ 6.89398565  5.51958212  3.70694877 ...  4.47734699  5.01219576\n",
      "   4.74750081]\n",
      " ...\n",
      " [ 6.35202686  5.25491516  5.18518644 ...  5.87214315  5.52648234\n",
      "   5.44309992]\n",
      " [ 9.64487516  7.16507709  4.25082935 ...  7.31804007  7.44562414\n",
      "   7.48418854]\n",
      " [ 6.67894047  7.82820713 -0.03296048 ...  4.69902456  5.77422617\n",
      "   5.75397514]]\n",
      "\n"
     ]
    }
   ],
   "source": [
    "#prediction of ratings using Matrix Factorization using rms prop optimization Algo\n",
    "R= np.array(ratings.pivot(index = 'user_id', columns ='movie_id', values = 'final_ratings').fillna(0))\n",
    "mf = MF(R, K=20, alpha=0.01, beta=0.005, iterations=100,optimiz_algo=2)\n",
    "training_process = mf.train()\n",
    "print()\n",
    "print(\"P x Q:\")\n",
    "print(mf.full_matrix())\n",
    "print()"
   ]
  },
  {
   "cell_type": "code",
   "execution_count": 28,
   "metadata": {
    "colab": {
     "base_uri": "https://localhost:8080/"
    },
    "id": "16CSdOoEKqpp",
    "outputId": "4e3ab074-53d2-41ab-defa-3b52a865a673"
   },
   "outputs": [
    {
     "name": "stdout",
     "output_type": "stream",
     "text": [
      "capture rate= [3, 0, 0, 0, 0, 5, 1, 0, 0, 4, 1, 0, 3, 0, 0, 0, 0, 0, 0, 0, 0, 0, 0, 0, 0, 2, 0, 0, 0, 0, 0, 0, 0, 0, 0, 0, 0, 0, 0, 0, 0, 1, 3, 0, 0, 0, 0, 0, 0, 0, 0, 0, 0, 0, 0, 0, 0, 0, 1, 0, 0, 5, 0, 2, 0, 0, 0, 0, 0, 0, 0, 0, 0, 2, 0, 0, 0, 0, 0, 0, 0, 3, 1, 0, 4, 0, 3, 0, 0, 3, 0, 1, 0, 5, 1, 0, 0, 0, 2, 0, 0, 2, 0, 2, 0, 0, 0, 0, 0, 1, 0, 1, 0, 0, 0, 5, 0, 0, 3, 0, 0, 0, 0, 0, 0, 0, 0, 0, 0, 4, 0, 2, 0, 0, 0, 0, 0, 0, 0, 0, 0, 0, 0, 8, 1, 0, 0, 0, 0, 0, 5, 1, 0, 1, 0, 0, 0, 3, 0, 1, 0, 0, 1, 0, 0, 0, 0, 0, 0, 0, 0, 0, 0, 0, 0, 0, 4, 7, 0, 0, 1, 0, 0, 4, 0, 0, 0, 0, 0, 0, 0, 0, 0, 2, 0, 0, 0, 6, 0, 1, 8, 0, 0, 0, 0, 0, 3, 0, 0, 4, 0, 0, 1, 2, 1, 2, 0, 0, 0, 0, 1, 6, 0, 2, 0, 0, 0, 0, 0, 0, 0, 0, 0, 8, 0, 0, 0, 0, 0, 0, 0, 0, 0, 0, 0, 0, 0, 0, 0, 1, 0, 0, 1, 1, 0, 0, 0, 0, 0, 0, 0, 0, 2, 0, 0, 0, 4, 4, 0, 0, 3, 0, 0, 0, 0, 9, 0, 0, 2, 0, 0, 0, 0, 0, 0, 0, 0, 0, 0, 0, 1, 1, 5, 0, 0, 1, 2, 5, 4, 0, 0, 0, 5, 0, 0, 0, 0, 4, 0, 0, 6, 0, 0, 0, 0, 0, 0, 0, 0, 2, 1, 0, 3, 0, 0, 0, 3, 1, 1, 1, 0, 3, 0, 2, 0, 0, 0, 0, 0, 0, 0, 1, 1, 0, 1, 0, 3, 0, 0, 1, 0, 0, 1, 2, 0, 0, 0, 0, 0, 1, 0, 0, 0, 0, 0, 0, 0, 0, 0, 0, 0, 0, 1, 0, 0, 0, 0, 4, 1, 1, 0, 0, 0, 3, 0, 0, 0, 0, 3, 0, 0, 0, 3, 0, 0, 0, 0, 2, 1, 0, 0, 0, 0, 0, 1, 0, 3, 0, 0, 0, 0, 0, 0, 0, 0, 2, 2, 0, 0, 0, 0, 0, 0, 0, 3, 0, 0, 0, 5, 1, 0, 0, 0, 0, 2, 0, 0, 0, 0, 0, 0, 3, 0, 0, 3, 0, 3, 0, 1, 10, 0, 0, 1, 6, 2, 2, 6, 0, 0, 0, 0, 0, 1, 0, 0, 0, 0, 6, 0, 0, 0, 0, 0, 5, 0, 0, 0, 0, 2, 0, 0, 0, 0, 6, 0, 2, 1, 3, 0, 0, 0, 0, 0, 0, 0, 0, 3, 0, 1, 2, 1, 0, 1, 0, 0, 3, 0, 0, 0, 0, 0, 0, 0, 2, 0, 0, 0, 0, 0, 0, 1, 0, 0, 1, 0, 0, 0, 0, 0, 0, 0, 3, 0, 0, 0, 0, 9, 2, 0, 0, 0, 2, 2, 0, 2, 0, 0, 0, 0, 0, 0, 0, 0, 1, 0, 0, 0, 0, 0, 1, 4, 0, 0, 0, 0, 2, 0, 0, 1, 0, 0, 0, 0, 0, 0, 0, 1, 0, 0, 0, 0, 0, 0, 0, 0, 1, 0, 0, 0, 0, 0, 6, 7, 0, 0, 0, 0, 0, 0, 0, 0, 0, 0, 0, 0, 1, 0, 0, 0, 0, 0, 0, 0, 0, 2, 0, 0, 5, 0, 0, 1, 1, 0, 4, 1, 0, 0, 0, 0, 0, 0, 2, 0, 4, 0, 0, 0, 0, 0, 0, 0, 0, 0, 0, 3, 1, 0, 0, 0, 1, 0, 0, 2, 0, 11, 0, 0, 0, 2, 4, 1, 0, 2, 1, 0, 1, 0, 0, 0, 0, 0, 0, 0, 0, 0, 0, 0, 0, 0, 0, 0, 5, 0, 0, 0, 0, 0, 0, 0, 1, 0, 0, 0, 6, 0, 0, 0, 0, 1, 0, 0, 0, 2, 0, 0, 0, 2, 0, 0, 0, 0, 0, 0, 0, 2, 2, 0, 0, 0, 0, 0, 0, 0, 0, 0, 0, 7, 0, 0, 0, 0, 0, 1, 0, 0, 0, 0, 1, 0, 0, 0, 0, 0, 0, 0, 0, 2, 0, 0, 0, 0, 0, 0, 0, 0, 0, 0, 1, 0, 0, 0, 0, 0, 0, 0, 0, 0, 0, 0, 0, 0, 0, 0, 0, 0, 0, 0, 0, 0, 1, 0, 0, 0, 0, 0, 0, 0, 1, 0, 2, 0, 0, 0, 0, 1, 0, 0, 0, 0, 0, 0, 0, 0, 1, 0, 2, 0, 0, 0, 0, 0, 0, 0, 0, 1, 0, 0, 0, 0, 0, 0, 0, 4, 0, 1, 0, 0, 0, 0, 0, 0, 0, 4, 0, 0, 0, 0, 0, 0, 0, 0, 0, 0, 0, 0, 0, 0, 0, 0, 0, 2, 0, 0, 2, 0, 1, 0, 0, 0, 0, 0, 0, 0, 3, 0, 0, 0, 0, 0, 4, 0, 0, 0, 0, 3, 0, 0, 0, 0, 6, 0, 0, 0, 0, 0, 0, 0, 0, 4, 0, 0, 3, 0, 3, 0, 1, 0, 0, 0, 0, 0, 0, 6, 0, 1, 0, 0, 0, 0, 0, 0, 0, 1, 0, 2, 4, 0, 0, 2, 0, 0, 0, 0, 0, 0, 0, 0, 0, 1, 0, 1, 7, 2, 0, 0, 0, 0, 0, 0, 0, 0, 2, 0]\n",
      "The total number of top 15 recommended movies which had been already watched by users is\n",
      "571\n"
     ]
    }
   ],
   "source": [
    "#After rmsprop\n",
    "res1=mf.full_matrix()\n",
    "count1=[]\n",
    "for i in range(n_users):\n",
    "    c=0\n",
    "    #for each user we are getting his top 15 rated movies\n",
    "    k=np.argsort(res1[i])[::-1][:15]\n",
    "    #Now we are checking how many of the highest rated movies the user has already watched\n",
    "    for j in k:\n",
    "      if data_matrix[i][j]>=res1[i][::-1][:15].min():\n",
    "        c+=1\n",
    "    count1.append(c)  \n",
    "print('capture rate=',count1) \n",
    "print('The total number of top 15 recommended movies which had been already watched by users is')       \n",
    "print(sum(count1))"
   ]
  },
  {
   "cell_type": "code",
   "execution_count": 29,
   "metadata": {
    "colab": {
     "base_uri": "https://localhost:8080/"
    },
    "id": "OGamWucxxQZz",
    "outputId": "7f5d0f51-41aa-4d1e-f819-53176eca697e"
   },
   "outputs": [
    {
     "name": "stdout",
     "output_type": "stream",
     "text": [
      "Iteration: 20 ; error = 503.4257\n",
      "Iteration: 40 ; error = 478.8507\n",
      "Iteration: 60 ; error = 446.0526\n",
      "Iteration: 80 ; error = 411.0205\n",
      "Iteration: 100 ; error = 383.3088\n",
      "Iteration: 120 ; error = 363.7716\n",
      "Iteration: 140 ; error = 350.1064\n",
      "Iteration: 160 ; error = 340.2003\n",
      "\n",
      "P x Q:\n",
      "[[5.5727918  4.0080037  4.64918426 ... 4.39944441 5.07219784 5.03275912]\n",
      " [7.09342339 5.06114304 5.21529991 ... 5.19292252 6.35328728 5.92715057]\n",
      " [8.40235514 5.16139183 5.59160882 ... 5.02393914 5.50108328 5.56650589]\n",
      " ...\n",
      " [6.57410168 5.2719803  4.84561112 ... 5.75099558 6.0828026  5.90069269]\n",
      " [9.24729062 7.72292778 5.92061478 ... 6.7406584  7.58006459 6.96783783]\n",
      " [6.49620084 6.40128403 6.25369474 ... 5.33290406 5.9906621  5.45172374]]\n",
      "\n"
     ]
    }
   ],
   "source": [
    "#prediction of ratings using Matrix Factorization using Adam optimization Algo\n",
    "R= np.array(ratings.pivot(index = 'user_id', columns ='movie_id', values = 'final_ratings').fillna(0))\n",
    "mf = MF(R, K=20, alpha=0.01, beta=0.005, iterations=160,optimiz_algo=3)\n",
    "training_process = mf.train()\n",
    "print()\n",
    "print(\"P x Q:\")\n",
    "print(mf.full_matrix())\n",
    "print()"
   ]
  },
  {
   "cell_type": "code",
   "execution_count": 30,
   "metadata": {
    "colab": {
     "base_uri": "https://localhost:8080/"
    },
    "id": "H_I-kQApxQdX",
    "outputId": "6d1a3076-a7be-4043-a9e7-374ce1480052"
   },
   "outputs": [
    {
     "name": "stdout",
     "output_type": "stream",
     "text": [
      "capture rate= [2, 2, 2, 2, 1, 11, 10, 4, 2, 7, 2, 0, 7, 2, 2, 7, 2, 8, 0, 0, 2, 2, 6, 3, 4, 3, 2, 1, 2, 2, 2, 0, 3, 1, 0, 0, 0, 0, 2, 0, 3, 7, 7, 7, 3, 2, 2, 7, 3, 0, 6, 0, 2, 4, 0, 9, 5, 6, 4, 4, 1, 7, 3, 4, 2, 0, 0, 0, 2, 1, 3, 5, 8, 3, 0, 3, 4, 1, 2, 2, 2, 3, 3, 2, 12, 0, 7, 3, 2, 14, 6, 5, 0, 9, 8, 3, 3, 0, 4, 0, 0, 5, 0, 5, 5, 5, 2, 4, 6, 9, 4, 6, 1, 2, 3, 8, 1, 3, 6, 4, 6, 2, 3, 2, 5, 3, 0, 2, 2, 12, 4, 3, 4, 3, 1, 5, 3, 2, 1, 2, 4, 2, 5, 8, 8, 2, 3, 3, 5, 2, 5, 4, 0, 3, 0, 4, 1, 3, 2, 4, 4, 0, 6, 6, 3, 3, 2, 2, 4, 2, 3, 0, 1, 2, 3, 1, 10, 10, 6, 1, 8, 4, 1, 9, 4, 1, 3, 1, 6, 3, 3, 1, 3, 8, 1, 2, 4, 10, 0, 6, 14, 0, 1, 3, 0, 7, 7, 2, 2, 10, 1, 0, 3, 4, 3, 5, 0, 1, 0, 2, 3, 8, 5, 4, 1, 2, 1, 3, 4, 5, 2, 4, 3, 12, 2, 5, 4, 1, 1, 3, 2, 1, 4, 3, 2, 2, 4, 3, 4, 1, 1, 3, 4, 10, 4, 1, 3, 4, 0, 2, 0, 5, 5, 3, 1, 4, 5, 7, 8, 1, 12, 2, 5, 1, 3, 12, 1, 6, 7, 2, 0, 0, 2, 4, 3, 6, 3, 3, 0, 10, 4, 4, 12, 5, 2, 7, 5, 9, 8, 1, 11, 0, 12, 4, 6, 2, 5, 7, 2, 1, 8, 3, 9, 9, 3, 4, 2, 6, 2, 5, 6, 4, 3, 3, 3, 5, 5, 10, 4, 5, 3, 12, 3, 10, 3, 1, 0, 1, 7, 3, 2, 3, 9, 5, 7, 3, 7, 1, 1, 3, 2, 1, 2, 8, 2, 7, 1, 2, 3, 6, 1, 0, 8, 0, 6, 0, 3, 2, 5, 4, 2, 1, 5, 5, 1, 1, 3, 11, 5, 7, 4, 0, 3, 5, 6, 0, 11, 5, 11, 2, 4, 7, 9, 2, 3, 1, 6, 9, 4, 2, 2, 2, 5, 2, 8, 7, 6, 4, 5, 3, 5, 3, 1, 2, 3, 8, 6, 5, 0, 2, 1, 2, 1, 0, 5, 4, 2, 3, 8, 0, 0, 2, 0, 2, 6, 4, 6, 1, 1, 0, 0, 6, 2, 1, 3, 1, 6, 2, 3, 12, 2, 1, 8, 10, 2, 5, 8, 3, 5, 4, 0, 4, 3, 3, 5, 5, 1, 10, 3, 1, 0, 5, 2, 12, 3, 0, 1, 4, 11, 1, 1, 2, 1, 5, 3, 5, 2, 9, 2, 0, 3, 3, 6, 6, 3, 1, 7, 9, 3, 6, 2, 5, 4, 6, 6, 6, 1, 1, 1, 2, 3, 0, 3, 7, 3, 2, 4, 0, 3, 2, 3, 3, 0, 6, 2, 1, 6, 4, 1, 1, 0, 7, 8, 1, 2, 10, 12, 1, 1, 1, 4, 5, 6, 3, 3, 2, 5, 4, 3, 2, 4, 0, 4, 4, 4, 1, 3, 2, 2, 4, 4, 1, 0, 5, 1, 2, 6, 3, 1, 0, 0, 1, 0, 5, 1, 0, 3, 2, 3, 4, 2, 0, 2, 5, 7, 1, 4, 6, 2, 4, 5, 10, 8, 0, 3, 3, 1, 5, 0, 1, 1, 2, 9, 2, 3, 4, 1, 2, 0, 3, 5, 1, 4, 0, 2, 4, 2, 10, 4, 1, 2, 6, 4, 6, 6, 2, 1, 3, 5, 3, 2, 5, 4, 6, 0, 3, 3, 2, 6, 5, 2, 3, 9, 2, 4, 3, 0, 7, 4, 10, 2, 0, 8, 5, 11, 1, 2, 5, 6, 4, 9, 4, 10, 8, 2, 3, 3, 5, 6, 2, 4, 1, 3, 3, 2, 6, 0, 1, 3, 1, 1, 10, 2, 3, 0, 4, 2, 0, 3, 4, 2, 0, 1, 9, 3, 3, 3, 3, 5, 4, 4, 2, 2, 8, 4, 1, 6, 3, 6, 3, 5, 3, 3, 5, 2, 10, 1, 2, 3, 6, 8, 0, 2, 1, 2, 2, 6, 0, 2, 0, 7, 3, 4, 5, 2, 0, 5, 9, 3, 2, 3, 3, 5, 0, 1, 3, 11, 7, 8, 0, 7, 5, 5, 1, 3, 0, 5, 9, 2, 1, 0, 3, 5, 3, 1, 5, 2, 2, 0, 1, 1, 3, 6, 4, 4, 3, 0, 3, 3, 8, 1, 8, 2, 3, 2, 4, 4, 3, 3, 2, 0, 0, 3, 2, 2, 10, 1, 4, 0, 1, 2, 1, 0, 9, 3, 6, 10, 1, 4, 0, 1, 1, 2, 1, 10, 3, 1, 1, 3, 2, 2, 2, 6, 0, 2, 7, 1, 4, 5, 3, 5, 1, 10, 1, 1, 3, 1, 7, 0, 9, 5, 3, 4, 1, 3, 3, 3, 2, 2, 4, 7, 2, 0, 7, 1, 4, 1, 2, 0, 1, 2, 5, 2, 7, 2, 2, 1, 4, 1, 11, 5, 5, 4, 3, 6, 3, 0, 5, 2, 8, 5, 8, 7, 2, 2, 8, 2, 1, 10, 2, 3, 4, 1, 3, 3, 9, 8, 1, 5, 2, 1, 2, 9, 2, 1, 1, 5, 3, 1, 0, 1, 1, 2, 0, 3, 5, 2, 5, 6, 1, 7, 9, 2, 7, 3, 5, 2, 1, 3, 1, 6, 8, 2, 2, 2, 0, 0, 4, 1, 6, 0, 8, 4]\n",
      "The total number of top 15 recommended movies which had been already watched by users is\n",
      "3336\n"
     ]
    }
   ],
   "source": [
    "#After Adam\n",
    "res2=mf.full_matrix()\n",
    "count2=[]\n",
    "for i in range(n_users):\n",
    "    c=0\n",
    "    #for each user we are getting his top 15 rated movies\n",
    "    k=np.argsort(res2[i])[::-1][:15]\n",
    "    #Now we are checking how many of the highest rated movies the user has already watched\n",
    "    for j in k:\n",
    "      if data_matrix[i][j]>=res2[i][::-1][:15].min():\n",
    "        c+=1\n",
    "    count2.append(c)  \n",
    "print('capture rate=',count2) \n",
    "print('The total number of top 15 recommended movies which had been already watched by users is')       \n",
    "print(sum(count2))"
   ]
  },
  {
   "cell_type": "code",
   "execution_count": 31,
   "metadata": {
    "colab": {
     "base_uri": "https://localhost:8080/"
    },
    "id": "lwkTNydC2TXa",
    "outputId": "af1d73b9-2cde-4058-bafd-69451184b338"
   },
   "outputs": [
    {
     "data": {
      "text/plain": [
       "array([220, 170, 515, 380, 284, 136, 529, 962, 511, 344, 420, 708, 275,\n",
       "       518, 640])"
      ]
     },
     "execution_count": 31,
     "metadata": {
      "tags": []
     },
     "output_type": "execute_result"
    }
   ],
   "source": [
    "#check prediction for the top rated movies by each of the optimizer models for user 0 for the movies he has watched\n",
    "#sgd optimizer\n",
    "np.argsort(res[0])[::-1][:15]"
   ]
  },
  {
   "cell_type": "code",
   "execution_count": 33,
   "metadata": {
    "colab": {
     "base_uri": "https://localhost:8080/"
    },
    "id": "sX9mKV3wxtuX",
    "outputId": "c3a0d16b-b391-4b70-eed4-621075aa295f"
   },
   "outputs": [
    {
     "name": "stdout",
     "output_type": "stream",
     "text": [
      "The true rating for movie id 170 by user 0 is= 9.58\n",
      "The predicted rating for movie id 170 by user 0 is= 8.577174713123407\n"
     ]
    }
   ],
   "source": [
    "print('The true rating for movie id 170 by user 0 is=',data_matrix[0][170])\n",
    "print('The predicted rating for movie id 170 by user 0 is=',res[0][170])"
   ]
  },
  {
   "cell_type": "code",
   "execution_count": 37,
   "metadata": {
    "colab": {
     "base_uri": "https://localhost:8080/"
    },
    "id": "B-QdY-sD21hy",
    "outputId": "f2dfaead-5740-4119-f378-dd94e36720ad"
   },
   "outputs": [
    {
     "data": {
      "text/plain": [
       "array([ 895,  170, 1061, 1072, 1066,  610, 1135,  651,  463,  908,    5,\n",
       "        220, 1141,  512,  864])"
      ]
     },
     "execution_count": 37,
     "metadata": {
      "tags": []
     },
     "output_type": "execute_result"
    }
   ],
   "source": [
    "#rms optimizer\n",
    "np.argsort(res1[0])[::-1][:15]"
   ]
  },
  {
   "cell_type": "code",
   "execution_count": 43,
   "metadata": {
    "colab": {
     "base_uri": "https://localhost:8080/"
    },
    "id": "-uPXeCuP21lG",
    "outputId": "cc25fa98-5483-4096-bc7f-f240d26ed556"
   },
   "outputs": [
    {
     "name": "stdout",
     "output_type": "stream",
     "text": [
      "The true rating for movie id 5 by user 0 is= 9.06\n",
      "The predicted rating for movie id 5 by user 0 is= 8.73903576949499\n"
     ]
    }
   ],
   "source": [
    "print('The true rating for movie id 5 by user 0 is=',data_matrix[0][5])\n",
    "print('The predicted rating for movie id 5 by user 0 is=',res1[0][5])"
   ]
  },
  {
   "cell_type": "code",
   "execution_count": 44,
   "metadata": {
    "colab": {
     "base_uri": "https://localhost:8080/"
    },
    "id": "kgaaTg1i3fed",
    "outputId": "6eda2e09-a4dd-4f3e-80d0-ac3147e6795c"
   },
   "outputs": [
    {
     "data": {
      "text/plain": [
       "array([168, 407, 646, 511, 656, 655, 512, 165, 473, 610, 515, 693, 301,\n",
       "       483, 854])"
      ]
     },
     "execution_count": 44,
     "metadata": {
      "tags": []
     },
     "output_type": "execute_result"
    }
   ],
   "source": [
    "#Adam optimizer\n",
    "np.argsort(res2[0])[::-1][:15]"
   ]
  },
  {
   "cell_type": "code",
   "execution_count": 50,
   "metadata": {
    "colab": {
     "base_uri": "https://localhost:8080/"
    },
    "id": "zuQuQkrS3_xe",
    "outputId": "9976d461-7ac9-40d7-9295-2dd5f94e801c"
   },
   "outputs": [
    {
     "name": "stdout",
     "output_type": "stream",
     "text": [
      "The true rating for movie id 168 by user 0 is= 7.45\n",
      "The predicted rating for movie id 168 by user 0 is= 8.846200068782734\n"
     ]
    }
   ],
   "source": [
    "print('The true rating for movie id 168 by user 0 is=',data_matrix[0][168])\n",
    "print('The predicted rating for movie id 168 by user 0 is=',res2[0][168])"
   ]
  }
 ],
 "metadata": {
  "colab": {
   "name": "Scratch Matrix Factorization Recommender.ipynb",
   "provenance": []
  },
  "kernelspec": {
   "display_name": "Python 3",
   "language": "python",
   "name": "python3"
  },
  "language_info": {
   "codemirror_mode": {
    "name": "ipython",
    "version": 3
   },
   "file_extension": ".py",
   "mimetype": "text/x-python",
   "name": "python",
   "nbconvert_exporter": "python",
   "pygments_lexer": "ipython3",
   "version": "3.7.4"
  }
 },
 "nbformat": 4,
 "nbformat_minor": 1
}
